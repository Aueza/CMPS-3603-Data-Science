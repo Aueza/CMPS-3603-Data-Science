{
  "cells": [
    {
      "cell_type": "markdown",
      "id": "2843d4ba",
      "metadata": {
        "id": "2843d4ba"
      },
      "source": [
        "# 📘 03 - File Loops and `with`\n",
        "\n",
        "Use `with open(...)` to read files and process content."
      ]
    },
    {
      "cell_type": "markdown",
      "id": "4d270565",
      "metadata": {
        "id": "4d270565"
      },
      "source": [
        "## ✅ Learning Goals\n",
        "- Open and read files using `with`\n",
        "- Loop over lines in a file\n",
        "- Use `.strip()` and `.split()` to process text"
      ]
    },
    {
      "cell_type": "code",
      "execution_count": 6,
      "id": "4f430e6d",
      "metadata": {
        "colab": {
          "base_uri": "https://localhost:8080/"
        },
        "id": "4f430e6d",
        "outputId": "249180ce-2983-448c-8845-f4d53880367b"
      },
      "outputs": [
        {
          "output_type": "stream",
          "name": "stdout",
          "text": [
            "Parts: [\"I'm online and will be available for questions.\"]\n",
            "Parts: [\"I'll fix the lost .txt file issue\"]\n",
            "Parts: [\"(even though it was found) and I'll be adding\"]\n",
            "Parts: ['more notebooks to do. Eventually I will create']\n",
            "Parts: [\"gradebook entries for each assignment. It's hard\"]\n",
            "Parts: ['to give feedback on Jupyter notebooks', ' except for']\n",
            "Parts: ['a completion grade. I will post an exam', '']\n",
            "Parts: ['and some quizzes soon', \" but they won't be killer\"]\n",
            "Parts: [\"either. I'm mostly interested in feedback from\"]\n",
            "Parts: ['you guys', ' since this is the first go round for']\n",
            "Parts: ['this course. For some reason I keep punishing']\n",
            "Parts: ['myself with new topics', ' and pay the price when']\n",
            "Parts: ['creating the brand new courses (aka IoT summer II).']\n"
          ]
        }
      ],
      "source": [
        "# 🔍 Process each line\n",
        "with open('/content/sample_data/sample.txt', 'r') as f:\n",
        "    for line in f:\n",
        "        parts = line.strip().split(',')\n",
        "        print('Parts:', parts)"
      ]
    },
    {
      "cell_type": "markdown",
      "id": "c5f556e4",
      "metadata": {
        "id": "c5f556e4"
      },
      "source": [
        "### ✏️ Your Turn\n",
        "Open a text file and print all lines that contain more than 3 words."
      ]
    },
    {
      "cell_type": "code",
      "execution_count": 7,
      "id": "0c72a05f",
      "metadata": {
        "id": "0c72a05f"
      },
      "outputs": [],
      "source": [
        "# Tip: use `len(line.split()) > 3` to check"
      ]
    },
    {
      "cell_type": "code",
      "source": [
        "with open('/content/sample_data/sample.txt', 'r') as f:\n",
        "    for line in f:\n",
        "        if len(line.split()) > 3:\n",
        "          print(line)"
      ],
      "metadata": {
        "id": "jo1bEPSFgpAB",
        "outputId": "12373418-8de4-4374-f6c5-c90ede22ed3a",
        "colab": {
          "base_uri": "https://localhost:8080/"
        }
      },
      "id": "jo1bEPSFgpAB",
      "execution_count": 9,
      "outputs": [
        {
          "output_type": "stream",
          "name": "stdout",
          "text": [
            "will be available for questions. \n",
            "\n",
            "lost .txt file issue \n",
            "\n",
            "(even though it was found) \n",
            "\n",
            "do. Eventually I will create \n",
            "\n",
            "gradebook entries for each assignment. It's hard \n",
            "\n",
            "to give feedback on Jupyter notebooks, except for \n",
            "\n",
            "a completion grade. I will post an exam, \n",
            "\n",
            "and some quizzes soon, but they won't be killer \n",
            "\n",
            "either. I'm mostly interested in feedback from \n",
            "\n",
            "you guys, since this is the first go round for \n",
            "\n",
            "this course. For some reason I keep punishing \n",
            "\n",
            "myself with new topics, and pay the price when \n",
            "\n",
            "creating the brand new courses (aka IoT summer II).\n"
          ]
        }
      ]
    },
    {
      "cell_type": "code",
      "source": [],
      "metadata": {
        "id": "LOh5k5BRgzKs"
      },
      "id": "LOh5k5BRgzKs",
      "execution_count": null,
      "outputs": []
    }
  ],
  "metadata": {
    "colab": {
      "provenance": []
    },
    "language_info": {
      "name": "python"
    },
    "kernelspec": {
      "name": "python3",
      "display_name": "Python 3"
    }
  },
  "nbformat": 4,
  "nbformat_minor": 5
}