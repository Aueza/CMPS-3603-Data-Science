{
  "cells": [
    {
      "cell_type": "markdown",
      "metadata": {
        "id": "BPKxi5n9BR2e"
      },
      "source": [
        "# ⏱️ 08 - Timing and Performance\n",
        "\n",
        "In data science, performance matters. Some code runs fast, some slow.  \n",
        "Jupyter/IPython gives us tools to measure runtime easily.\n",
        "\n",
        "In this notebook you will learn:\n",
        "- `%time` and `%timeit` for single expressions\n",
        "- `%%time` and `%%timeit` for entire cells\n",
        "- Comparing loops, list comprehensions, and NumPy\n",
        "- Why performance awareness is important\n"
      ],
      "id": "BPKxi5n9BR2e"
    },
    {
      "cell_type": "markdown",
      "metadata": {
        "id": "ek9GAnJtBR2f"
      },
      "source": [
        "## 1. `%time`"
      ],
      "id": "ek9GAnJtBR2f"
    },
    {
      "cell_type": "code",
      "execution_count": 2,
      "metadata": {
        "colab": {
          "base_uri": "https://localhost:8080/"
        },
        "id": "b0pFopo6BR2f",
        "outputId": "c4f548a2-6541-4944-af32-965c98cbe732"
      },
      "outputs": [
        {
          "output_type": "stream",
          "name": "stdout",
          "text": [
            "CPU times: user 24.3 ms, sys: 0 ns, total: 24.3 ms\n",
            "Wall time: 24.2 ms\n"
          ]
        },
        {
          "output_type": "execute_result",
          "data": {
            "text/plain": [
              "499999500000"
            ]
          },
          "metadata": {},
          "execution_count": 2
        }
      ],
      "source": [
        "%time sum(range(1_000_000))"
      ],
      "id": "b0pFopo6BR2f"
    },
    {
      "cell_type": "markdown",
      "metadata": {
        "id": "tqRAd1r2BR2f"
      },
      "source": [
        "✅ **Your Turn**: Use `%time` to measure how long it takes to sort a list of 1 million random numbers."
      ],
      "id": "tqRAd1r2BR2f"
    },
    {
      "cell_type": "code",
      "source": [
        "import random\n",
        "myList = [random.randint(0, 1000000) for _ in range(1_000_000)]\n",
        "#myList\n",
        "%time myList.sort()"
      ],
      "metadata": {
        "colab": {
          "base_uri": "https://localhost:8080/"
        },
        "id": "LCv259RpBkB2",
        "outputId": "8d457bff-faad-4bfb-d048-d54be35b89db"
      },
      "id": "LCv259RpBkB2",
      "execution_count": 25,
      "outputs": [
        {
          "output_type": "stream",
          "name": "stdout",
          "text": [
            "CPU times: user 407 ms, sys: 19 µs, total: 407 ms\n",
            "Wall time: 408 ms\n"
          ]
        }
      ]
    },
    {
      "cell_type": "markdown",
      "metadata": {
        "id": "MPvKkHgDBR2g"
      },
      "source": [
        "## 2. `%timeit`"
      ],
      "id": "MPvKkHgDBR2g"
    },
    {
      "cell_type": "code",
      "execution_count": 26,
      "metadata": {
        "colab": {
          "base_uri": "https://localhost:8080/"
        },
        "id": "3RJJaAcWBR2g",
        "outputId": "f531c903-2db4-490a-b876-b707166d3186"
      },
      "outputs": [
        {
          "output_type": "stream",
          "name": "stdout",
          "text": [
            "65.2 µs ± 13.3 µs per loop (mean ± std. dev. of 7 runs, 10000 loops each)\n"
          ]
        }
      ],
      "source": [
        "numbers = list(range(1_000))\n",
        "%timeit [x**2 for x in numbers]"
      ],
      "id": "3RJJaAcWBR2g"
    },
    {
      "cell_type": "markdown",
      "metadata": {
        "id": "BWD3z2UeBR2g"
      },
      "source": [
        "✅ **Your Turn**: Compare `%timeit` results for a list comprehension vs. a `for` loop that builds the same list."
      ],
      "id": "BWD3z2UeBR2g"
    },
    {
      "cell_type": "code",
      "source": [
        "%timeit nums = list(range(1_000_000))\n",
        "%timeit [x for x in range(1_000_000)]"
      ],
      "metadata": {
        "id": "uThNrm_NDtGC",
        "outputId": "a23218ae-84ca-4bfb-f2a9-ecdc4eeb2b80",
        "colab": {
          "base_uri": "https://localhost:8080/"
        }
      },
      "id": "uThNrm_NDtGC",
      "execution_count": 28,
      "outputs": [
        {
          "output_type": "stream",
          "name": "stdout",
          "text": [
            "43 ms ± 7.18 ms per loop (mean ± std. dev. of 7 runs, 10 loops each)\n",
            "49.6 ms ± 866 µs per loop (mean ± std. dev. of 7 runs, 10 loops each)\n"
          ]
        }
      ]
    },
    {
      "cell_type": "markdown",
      "metadata": {
        "id": "cfit1ZTNBR2g"
      },
      "source": [
        "## 3. `%%time` for a Whole Cell"
      ],
      "id": "cfit1ZTNBR2g"
    },
    {
      "cell_type": "code",
      "execution_count": 29,
      "metadata": {
        "colab": {
          "base_uri": "https://localhost:8080/"
        },
        "id": "p1WLxcWTBR2g",
        "outputId": "63eafa32-879b-4979-9dea-701c468a5685"
      },
      "outputs": [
        {
          "output_type": "stream",
          "name": "stdout",
          "text": [
            "71.5 ms ± 19.8 ms per loop (mean ± std. dev. of 7 runs, 10 loops each)\n"
          ]
        }
      ],
      "source": [
        "%%timeit\n",
        "total = 0\n",
        "for i in range(1_000_000):\n",
        "    total += i\n",
        "total"
      ],
      "id": "p1WLxcWTBR2g"
    },
    {
      "cell_type": "markdown",
      "metadata": {
        "id": "cdG6eCiTBR2g"
      },
      "source": [
        "✅ **Your Turn**: Wrap a longer multi-line operation with `%%time` to measure its runtime."
      ],
      "id": "cdG6eCiTBR2g"
    },
    {
      "cell_type": "code",
      "source": [
        "%%timeit\n",
        "total = 0\n",
        "for i in range(1_000_000):\n",
        "    total *= i\n",
        "total"
      ],
      "metadata": {
        "id": "3D4KYj_vEKPJ",
        "outputId": "5217d821-bad7-4bb8-b49a-0d5385e43a35",
        "colab": {
          "base_uri": "https://localhost:8080/"
        }
      },
      "id": "3D4KYj_vEKPJ",
      "execution_count": 32,
      "outputs": [
        {
          "output_type": "stream",
          "name": "stdout",
          "text": [
            "35.9 ms ± 697 µs per loop (mean ± std. dev. of 7 runs, 10 loops each)\n"
          ]
        }
      ]
    },
    {
      "cell_type": "markdown",
      "metadata": {
        "id": "QGXqRsynBR2g"
      },
      "source": [
        "## 4. Comparing Loops vs. NumPy"
      ],
      "id": "QGXqRsynBR2g"
    },
    {
      "cell_type": "code",
      "execution_count": 33,
      "metadata": {
        "colab": {
          "base_uri": "https://localhost:8080/"
        },
        "id": "-e_Qe6-PBR2g",
        "outputId": "a57f970a-4e7b-4191-94bf-a6415429a448"
      },
      "outputs": [
        {
          "output_type": "stream",
          "name": "stdout",
          "text": [
            "163 ms ± 33 ms per loop (mean ± std. dev. of 7 runs, 10 loops each)\n",
            "1.11 ms ± 116 µs per loop (mean ± std. dev. of 7 runs, 1000 loops each)\n"
          ]
        }
      ],
      "source": [
        "import numpy as np\n",
        "\n",
        "numbers = np.arange(1_000_000)\n",
        "\n",
        "# Python loop\n",
        "%timeit [x**2 for x in numbers]\n",
        "\n",
        "# NumPy vectorized\n",
        "%timeit numbers**2"
      ],
      "id": "-e_Qe6-PBR2g"
    },
    {
      "cell_type": "markdown",
      "metadata": {
        "id": "C8GCjy8GBR2g"
      },
      "source": [
        "✅ **Your Turn**: Try squaring numbers with a Python loop, list comprehension, and NumPy array. Compare times."
      ],
      "id": "C8GCjy8GBR2g"
    },
    {
      "cell_type": "code",
      "source": [
        "import numpy as np\n",
        "\n",
        "numbers = np.arange(1_000_000)\n",
        "\n",
        "%timeit [x**2 for x in numbers]\n",
        "\n",
        "%timeit numbers**2"
      ],
      "metadata": {
        "id": "wuSFMjafE9Ba",
        "outputId": "281f14a5-a859-4aba-8add-e0f146e9f03a",
        "colab": {
          "base_uri": "https://localhost:8080/"
        }
      },
      "id": "wuSFMjafE9Ba",
      "execution_count": 36,
      "outputs": [
        {
          "output_type": "stream",
          "name": "stdout",
          "text": [
            "222 ms ± 65.6 ms per loop (mean ± std. dev. of 7 runs, 1 loop each)\n",
            "1.05 ms ± 102 µs per loop (mean ± std. dev. of 7 runs, 1000 loops each)\n"
          ]
        }
      ]
    },
    {
      "cell_type": "markdown",
      "metadata": {
        "id": "ENl72JE2BR2g"
      },
      "source": [
        "## 5. Why This Matters\n",
        "- Performance differences become huge with large datasets.\n",
        "- Vectorized operations (like NumPy, Pandas) are usually faster.\n",
        "- `%timeit` is your friend when deciding how to implement something.\n"
      ],
      "id": "ENl72JE2BR2g"
    },
    {
      "cell_type": "markdown",
      "metadata": {
        "id": "zo4_fjqKBR2g"
      },
      "source": [
        "---\n",
        "### Summary\n",
        "- `%time` and `%timeit` measure execution speed.\n",
        "- `%%time` and `%%timeit` work on whole cells.\n",
        "- Loops are slower than list comprehensions, which are slower than NumPy.\n",
        "- Always measure performance before optimizing.\n"
      ],
      "id": "zo4_fjqKBR2g"
    }
  ],
  "metadata": {
    "kernelspec": {
      "display_name": ".venv",
      "language": "python",
      "name": "python3"
    },
    "language_info": {
      "name": "python",
      "version": "3.13.7"
    },
    "colab": {
      "provenance": []
    }
  },
  "nbformat": 4,
  "nbformat_minor": 5
}