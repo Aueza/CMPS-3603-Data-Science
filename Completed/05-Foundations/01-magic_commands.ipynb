{
  "cells": [
    {
      "cell_type": "markdown",
      "metadata": {
        "id": "FtixGanFuTmA"
      },
      "source": [
        "# 🧙 Magic Commands Demo Notebook\n",
        "\n",
        "This notebook introduces some of the most useful **IPython magic commands** in Jupyter.  \n",
        "Run each cell and see what happens!"
      ],
      "id": "FtixGanFuTmA"
    },
    {
      "cell_type": "markdown",
      "metadata": {
        "id": "-QQXzvzBuTmB"
      },
      "source": [
        "## 1. Timing and Performance"
      ],
      "id": "-QQXzvzBuTmB"
    },
    {
      "cell_type": "code",
      "execution_count": null,
      "metadata": {
        "id": "iwsgJ2oSuTmB",
        "outputId": "076d9f61-721b-4390-fac9-bda9f022deae"
      },
      "outputs": [
        {
          "name": "stdout",
          "output_type": "stream",
          "text": [
            "CPU times: user 9.27 ms, sys: 96 μs, total: 9.37 ms\n",
            "Wall time: 9.31 ms\n"
          ]
        },
        {
          "data": {
            "text/plain": [
              "499999500000"
            ]
          },
          "execution_count": 1,
          "metadata": {},
          "output_type": "execute_result"
        }
      ],
      "source": [
        "%time sum(range(1_000_000))"
      ],
      "id": "iwsgJ2oSuTmB"
    },
    {
      "cell_type": "code",
      "execution_count": null,
      "metadata": {
        "id": "NPy3G7YVuTmC"
      },
      "outputs": [],
      "source": [
        "%timeit sum(range(1_000_000))"
      ],
      "id": "NPy3G7YVuTmC"
    },
    {
      "cell_type": "code",
      "execution_count": null,
      "metadata": {
        "id": "KJd6c8HFuTmC"
      },
      "outputs": [],
      "source": [
        "%%time\n",
        "total = 0\n",
        "for i in range(1_000_000):\n",
        "    total += i"
      ],
      "id": "KJd6c8HFuTmC"
    },
    {
      "cell_type": "markdown",
      "metadata": {
        "id": "RL8G9nEOuTmC"
      },
      "source": [
        "## 2. Working with Files"
      ],
      "id": "RL8G9nEOuTmC"
    },
    {
      "cell_type": "code",
      "execution_count": null,
      "metadata": {
        "id": "unQyKcH2uTmC",
        "outputId": "ac376a72-148f-4c5c-8f3e-8a13adf266d7"
      },
      "outputs": [
        {
          "data": {
            "text/plain": [
              "'/Users/griffin/Sync/__currentCourses/3603-Programming-for-Data-Science/Assignments/05-Foundations'"
            ]
          },
          "execution_count": 2,
          "metadata": {},
          "output_type": "execute_result"
        }
      ],
      "source": [
        "%pwd"
      ],
      "id": "unQyKcH2uTmC"
    },
    {
      "cell_type": "code",
      "execution_count": null,
      "metadata": {
        "id": "BnJBmV8_uTmC",
        "outputId": "ec2a95ef-d204-43dc-cde3-d475bc844ae6"
      },
      "outputs": [
        {
          "name": "stdout",
          "output_type": "stream",
          "text": [
            "magic_commands.ipynb\n"
          ]
        }
      ],
      "source": [
        "%ls"
      ],
      "id": "BnJBmV8_uTmC"
    },
    {
      "cell_type": "code",
      "execution_count": null,
      "metadata": {
        "id": "CuhJj_u6uTmC",
        "outputId": "fb6daffd-aa97-45d6-c1c3-1581bf11f082"
      },
      "outputs": [
        {
          "name": "stdout",
          "output_type": "stream",
          "text": [
            "/Users/griffin/Sync/__currentCourses/3603-Programming-for-Data-Science/Assignments\n"
          ]
        },
        {
          "data": {
            "text/plain": [
              "'/Users/griffin/Sync/__currentCourses/3603-Programming-for-Data-Science/Assignments'"
            ]
          },
          "execution_count": 4,
          "metadata": {},
          "output_type": "execute_result"
        }
      ],
      "source": [
        "%cd ..\n",
        "%pwd"
      ],
      "id": "CuhJj_u6uTmC"
    },
    {
      "cell_type": "markdown",
      "metadata": {
        "id": "6HVTJDm2uTmD"
      },
      "source": [
        "## 3. Variables in Memory"
      ],
      "id": "6HVTJDm2uTmD"
    },
    {
      "cell_type": "code",
      "execution_count": null,
      "metadata": {
        "id": "wbmtXJQbuTmD",
        "outputId": "f69db4d4-81a1-484a-ba05-9d60f2a63d76"
      },
      "outputs": [
        {
          "name": "stdout",
          "output_type": "stream",
          "text": [
            "a\t b\t c\t \n"
          ]
        }
      ],
      "source": [
        "a = 42\n",
        "b = [1, 2, 3]\n",
        "c = {\"name\": \"Graylian\"}\n",
        "\n",
        "%who"
      ],
      "id": "wbmtXJQbuTmD"
    },
    {
      "cell_type": "code",
      "execution_count": null,
      "metadata": {
        "id": "43fKm4ghuTmD",
        "outputId": "d9a2384e-83eb-458a-9509-c14b55592b1e"
      },
      "outputs": [
        {
          "name": "stdout",
          "output_type": "stream",
          "text": [
            "Variable   Type    Data/Info\n",
            "----------------------------\n",
            "a          int     42\n",
            "b          list    n=3\n",
            "c          dict    n=1\n"
          ]
        }
      ],
      "source": [
        "%whos"
      ],
      "id": "43fKm4ghuTmD"
    },
    {
      "cell_type": "code",
      "execution_count": null,
      "metadata": {
        "id": "lRbTITUGuTmD"
      },
      "outputs": [],
      "source": [
        "# %reset"
      ],
      "id": "lRbTITUGuTmD"
    },
    {
      "cell_type": "markdown",
      "metadata": {
        "id": "wjnA39LAuTmD"
      },
      "source": [
        "## 4. Debugging and Introspection"
      ],
      "id": "wjnA39LAuTmD"
    },
    {
      "cell_type": "code",
      "execution_count": null,
      "metadata": {
        "id": "ULfftLrIuTmD",
        "outputId": "d5759ad2-24cc-46c0-c436-add59df82c6d"
      },
      "outputs": [
        {
          "ename": "ZeroDivisionError",
          "evalue": "division by zero",
          "output_type": "error",
          "traceback": [
            "\u001b[31m---------------------------------------------------------------------------\u001b[39m",
            "\u001b[31mZeroDivisionError\u001b[39m                         Traceback (most recent call last)",
            "\u001b[36mCell\u001b[39m\u001b[36m \u001b[39m\u001b[32mIn[7]\u001b[39m\u001b[32m, line 1\u001b[39m\n\u001b[32m----> \u001b[39m\u001b[32m1\u001b[39m \u001b[32;43m1\u001b[39;49m\u001b[43m \u001b[49m\u001b[43m/\u001b[49m\u001b[43m \u001b[49m\u001b[32;43m0\u001b[39;49m\n",
            "\u001b[31mZeroDivisionError\u001b[39m: division by zero"
          ]
        }
      ],
      "source": [
        "1 / 0"
      ],
      "id": "ULfftLrIuTmD"
    },
    {
      "cell_type": "code",
      "execution_count": null,
      "metadata": {
        "id": "uNdWT3vauTmD",
        "outputId": "92aded53-d6ea-4b58-feb5-b7dbe89c1621"
      },
      "outputs": [
        {
          "name": "stdout",
          "output_type": "stream",
          "text": [
            "> \u001b[32m/var/folders/g5/h6gv0mcx1sj21bl9lkvg3ytc0000gn/T/ipykernel_9538/1455669704.py\u001b[39m(\u001b[92m1\u001b[39m)\u001b[36m<module>\u001b[39m\u001b[34m()\u001b[39m\n",
            "\u001b[32m----> 1\u001b[39m \u001b[32m1\u001b[39m / \u001b[32m0\u001b[39m\n",
            "\n"
          ]
        }
      ],
      "source": [
        "%debug"
      ],
      "id": "uNdWT3vauTmD"
    },
    {
      "cell_type": "markdown",
      "metadata": {
        "id": "jgo3BG1GuTmD"
      },
      "source": [
        "## 5. Writing and Running Files"
      ],
      "id": "jgo3BG1GuTmD"
    },
    {
      "cell_type": "code",
      "execution_count": null,
      "metadata": {
        "id": "27u5j2YUuTmD"
      },
      "outputs": [],
      "source": [
        "%%writefile hello.py\n",
        "print(\"Hello from a file!\")"
      ],
      "id": "27u5j2YUuTmD"
    },
    {
      "cell_type": "code",
      "execution_count": null,
      "metadata": {
        "id": "3JazamwbuTmE"
      },
      "outputs": [],
      "source": [
        "%run hello.py"
      ],
      "id": "3JazamwbuTmE"
    },
    {
      "cell_type": "markdown",
      "metadata": {
        "id": "cuoXUbnDuTmE"
      },
      "source": [
        "## 6. Output and Formatting"
      ],
      "id": "cuoXUbnDuTmE"
    },
    {
      "cell_type": "code",
      "execution_count": null,
      "metadata": {
        "id": "tds3wp1YuTmE"
      },
      "outputs": [],
      "source": [
        "%%capture cap\n",
        "print(\"This will not display right away\")\n",
        "\n",
        "cap.show()"
      ],
      "id": "tds3wp1YuTmE"
    },
    {
      "cell_type": "code",
      "execution_count": null,
      "metadata": {
        "id": "G1YmYP5VuTmE"
      },
      "outputs": [],
      "source": [
        "%%html\n",
        "<h1 style=\"color: maroon\">Magics are Magical ✨</h1>"
      ],
      "id": "G1YmYP5VuTmE"
    },
    {
      "cell_type": "code",
      "execution_count": null,
      "metadata": {
        "id": "SoDscGr7uTmE"
      },
      "outputs": [],
      "source": [
        "%%markdown\n",
        "# This is a Markdown cell inside code!\n",
        "**Bold text** and *italic* still work."
      ],
      "id": "SoDscGr7uTmE"
    },
    {
      "cell_type": "markdown",
      "metadata": {
        "id": "Y6YC6qO_uTmE"
      },
      "source": [
        "## 7. Discover More"
      ],
      "id": "Y6YC6qO_uTmE"
    },
    {
      "cell_type": "code",
      "execution_count": null,
      "metadata": {
        "id": "cOyg6GFsuTmE"
      },
      "outputs": [],
      "source": [
        "%lsmagic"
      ],
      "id": "cOyg6GFsuTmE"
    },
    {
      "cell_type": "code",
      "execution_count": 2,
      "metadata": {
        "id": "W2alllo_uTmE",
        "outputId": "75ba3136-b631-49b2-b88f-5d63f417fd47",
        "colab": {
          "base_uri": "https://localhost:8080/"
        }
      },
      "outputs": [
        {
          "output_type": "stream",
          "name": "stdout",
          "text": [
            "39.1 µs ± 865 ns per loop (mean ± std. dev. of 7 runs, 10000 loops each)\n"
          ]
        }
      ],
      "source": [
        "%timeit [x**2 for x in range(1000)]"
      ],
      "id": "W2alllo_uTmE"
    },
    {
      "cell_type": "markdown",
      "metadata": {
        "id": "ogp2BItLuTmE"
      },
      "source": [
        "✅ **Try It Yourself**:  \n",
        "- Use `%timeit` to compare a list comprehension `[x**2 for x in range(1000)]` vs a generator `(x**2 for x in range(1000))`.  \n",
        "- Use `%whos` after defining some variables to see their types.  \n",
        "- Use `%%html` to make your own banner."
      ],
      "id": "ogp2BItLuTmE"
    },
    {
      "cell_type": "code",
      "source": [
        "%timeit (x**2 for x in range(1000))"
      ],
      "metadata": {
        "id": "4dVHcMLlufVT",
        "outputId": "b90b2093-6f0e-412c-8660-e10693fe2353",
        "colab": {
          "base_uri": "https://localhost:8080/"
        }
      },
      "id": "4dVHcMLlufVT",
      "execution_count": 3,
      "outputs": [
        {
          "output_type": "stream",
          "name": "stdout",
          "text": [
            "186 ns ± 16.3 ns per loop (mean ± std. dev. of 7 runs, 10000000 loops each)\n"
          ]
        }
      ]
    },
    {
      "cell_type": "code",
      "source": [
        "x = 5\n",
        "y = 10.4\n",
        "z = \"hi\"\n",
        "%whos"
      ],
      "metadata": {
        "id": "Un2ttZfiukUl",
        "outputId": "f4cea3a2-b01c-44ca-e347-a3482b454fe8",
        "colab": {
          "base_uri": "https://localhost:8080/"
        }
      },
      "id": "Un2ttZfiukUl",
      "execution_count": 4,
      "outputs": [
        {
          "output_type": "stream",
          "name": "stdout",
          "text": [
            "Variable   Type     Data/Info\n",
            "-----------------------------\n",
            "x          int      5\n",
            "y          float    10.4\n",
            "z          str      hi\n"
          ]
        }
      ]
    },
    {
      "cell_type": "code",
      "source": [
        "%%html\n",
        "<h1 style=\"color: indigo\">Testing</h1>"
      ],
      "metadata": {
        "id": "ndG9bXXUuvGy",
        "outputId": "7e365434-1b8a-4fb4-c4d6-d25b45062017",
        "colab": {
          "base_uri": "https://localhost:8080/",
          "height": 74
        }
      },
      "id": "ndG9bXXUuvGy",
      "execution_count": 10,
      "outputs": [
        {
          "output_type": "display_data",
          "data": {
            "text/plain": [
              "<IPython.core.display.HTML object>"
            ],
            "text/html": [
              "<h1 style=\"color: indigo\">Testing</h1>\n"
            ]
          },
          "metadata": {}
        }
      ]
    },
    {
      "cell_type": "code",
      "source": [],
      "metadata": {
        "id": "t-Tq-U_gu9Fp"
      },
      "id": "t-Tq-U_gu9Fp",
      "execution_count": null,
      "outputs": []
    }
  ],
  "metadata": {
    "kernelspec": {
      "display_name": "env",
      "language": "python",
      "name": "python3"
    },
    "language_info": {
      "codemirror_mode": {
        "name": "ipython",
        "version": 3
      },
      "file_extension": ".py",
      "mimetype": "text/x-python",
      "name": "python",
      "nbconvert_exporter": "python",
      "pygments_lexer": "ipython3",
      "version": "3.13.7"
    },
    "colab": {
      "provenance": []
    }
  },
  "nbformat": 4,
  "nbformat_minor": 5
}