{
  "cells": [
    {
      "cell_type": "markdown",
      "metadata": {
        "id": "B_dC5Fy-Fcre"
      },
      "source": [
        "# 📝 Foundations Quiz\n",
        "\n",
        "This quiz covers material from the **Foundations** notebooks (01–08).  \n",
        "Answer each question in the provided cell. Some questions require code, others are written answers.\n"
      ],
      "id": "B_dC5Fy-Fcre"
    },
    {
      "cell_type": "markdown",
      "metadata": {
        "id": "VmCyMZDvFcrf"
      },
      "source": [
        "## Q1. Magics\n",
        "What does `%whos` display? Write your answer below."
      ],
      "id": "VmCyMZDvFcrf"
    },
    {
      "cell_type": "code",
      "source": [
        "x = 5\n",
        "%whos"
      ],
      "metadata": {
        "id": "50z4CgO1RMqw",
        "outputId": "f8975a8d-029f-4158-f0d5-690aad5f7008",
        "colab": {
          "base_uri": "https://localhost:8080/"
        }
      },
      "id": "50z4CgO1RMqw",
      "execution_count": 1,
      "outputs": [
        {
          "output_type": "stream",
          "name": "stdout",
          "text": [
            "Variable   Type    Data/Info\n",
            "----------------------------\n",
            "x          int     5\n"
          ]
        }
      ]
    },
    {
      "cell_type": "markdown",
      "metadata": {
        "id": "6xP3QqgaFcrf"
      },
      "source": [
        "*Your Answer:* Provides information about a variable that has been defined."
      ],
      "id": "6xP3QqgaFcrf"
    },
    {
      "cell_type": "markdown",
      "metadata": {
        "id": "WdRSnJFMFcrf"
      },
      "source": [
        "## Q2. Markdown\n",
        "Create a Markdown cell with a heading `## My Hobbies` and a bullet list of at least 3 hobbies."
      ],
      "id": "WdRSnJFMFcrf"
    },
    {
      "cell_type": "markdown",
      "metadata": {
        "id": "a_f-7FLpFcrf"
      },
      "source": [
        "*Your Answer:*\n",
        "\n",
        "## My Hobbies\n",
        "- Gym\n",
        "- Video Games\n",
        "- Volleyball"
      ],
      "id": "a_f-7FLpFcrf"
    },
    {
      "cell_type": "markdown",
      "metadata": {
        "id": "YtJ7t4EVFcrf"
      },
      "source": [
        "## Q3. Files and Paths\n",
        "Use `%pwd` to print your current working directory."
      ],
      "id": "YtJ7t4EVFcrf"
    },
    {
      "cell_type": "code",
      "execution_count": 2,
      "metadata": {
        "id": "Yn93HKwMFcrf",
        "outputId": "47f734a5-3608-41b8-8a81-4d7a392469cf",
        "colab": {
          "base_uri": "https://localhost:8080/",
          "height": 35
        }
      },
      "outputs": [
        {
          "output_type": "execute_result",
          "data": {
            "text/plain": [
              "'/content'"
            ],
            "application/vnd.google.colaboratory.intrinsic+json": {
              "type": "string"
            }
          },
          "metadata": {},
          "execution_count": 2
        }
      ],
      "source": [
        "%pwd"
      ],
      "id": "Yn93HKwMFcrf"
    },
    {
      "cell_type": "markdown",
      "metadata": {
        "id": "rbrkWZLsFcrf"
      },
      "source": [
        "## Q4. File I/O\n",
        "Write Python code that saves `Hello World` to a file called `hello.txt`, then reads it back and prints the contents."
      ],
      "id": "rbrkWZLsFcrf"
    },
    {
      "cell_type": "code",
      "execution_count": 3,
      "metadata": {
        "id": "fBPVtX9WFcrf",
        "outputId": "ef48605f-50f5-46f5-9fa0-cd0cdd2ef920",
        "colab": {
          "base_uri": "https://localhost:8080/"
        }
      },
      "outputs": [
        {
          "output_type": "stream",
          "name": "stdout",
          "text": [
            "Hello World\n"
          ]
        }
      ],
      "source": [
        "with open('hello.txt', 'w') as f:\n",
        "    f.write('Hello World')\n",
        "\n",
        "with open('hello.txt', 'r') as f:\n",
        "    print(f.read())"
      ],
      "id": "fBPVtX9WFcrf"
    },
    {
      "cell_type": "markdown",
      "metadata": {
        "id": "DfDhjNpyFcrg"
      },
      "source": [
        "## Q5. Data I/O\n",
        "Load the file `students.csv` (or create a small CSV yourself) with Pandas and show the first 5 rows."
      ],
      "id": "DfDhjNpyFcrg"
    },
    {
      "cell_type": "code",
      "execution_count": 10,
      "metadata": {
        "id": "pxUMTbzYFcrg",
        "outputId": "14922596-f9ab-4111-c11c-006b29c1d836",
        "colab": {
          "base_uri": "https://localhost:8080/",
          "height": 143
        }
      },
      "outputs": [
        {
          "output_type": "execute_result",
          "data": {
            "text/plain": [
              "     Name   Age   GPA\n",
              "0   Ethan    21  3.65\n",
              "1  Isaiah    21  3.40\n",
              "2      RJ    21  2.50"
            ],
            "text/html": [
              "\n",
              "  <div id=\"df-a531fa7c-3e47-4b60-9317-82393c9728fb\" class=\"colab-df-container\">\n",
              "    <div>\n",
              "<style scoped>\n",
              "    .dataframe tbody tr th:only-of-type {\n",
              "        vertical-align: middle;\n",
              "    }\n",
              "\n",
              "    .dataframe tbody tr th {\n",
              "        vertical-align: top;\n",
              "    }\n",
              "\n",
              "    .dataframe thead th {\n",
              "        text-align: right;\n",
              "    }\n",
              "</style>\n",
              "<table border=\"1\" class=\"dataframe\">\n",
              "  <thead>\n",
              "    <tr style=\"text-align: right;\">\n",
              "      <th></th>\n",
              "      <th>Name</th>\n",
              "      <th>Age</th>\n",
              "      <th>GPA</th>\n",
              "    </tr>\n",
              "  </thead>\n",
              "  <tbody>\n",
              "    <tr>\n",
              "      <th>0</th>\n",
              "      <td>Ethan</td>\n",
              "      <td>21</td>\n",
              "      <td>3.65</td>\n",
              "    </tr>\n",
              "    <tr>\n",
              "      <th>1</th>\n",
              "      <td>Isaiah</td>\n",
              "      <td>21</td>\n",
              "      <td>3.40</td>\n",
              "    </tr>\n",
              "    <tr>\n",
              "      <th>2</th>\n",
              "      <td>RJ</td>\n",
              "      <td>21</td>\n",
              "      <td>2.50</td>\n",
              "    </tr>\n",
              "  </tbody>\n",
              "</table>\n",
              "</div>\n",
              "    <div class=\"colab-df-buttons\">\n",
              "\n",
              "  <div class=\"colab-df-container\">\n",
              "    <button class=\"colab-df-convert\" onclick=\"convertToInteractive('df-a531fa7c-3e47-4b60-9317-82393c9728fb')\"\n",
              "            title=\"Convert this dataframe to an interactive table.\"\n",
              "            style=\"display:none;\">\n",
              "\n",
              "  <svg xmlns=\"http://www.w3.org/2000/svg\" height=\"24px\" viewBox=\"0 -960 960 960\">\n",
              "    <path d=\"M120-120v-720h720v720H120Zm60-500h600v-160H180v160Zm220 220h160v-160H400v160Zm0 220h160v-160H400v160ZM180-400h160v-160H180v160Zm440 0h160v-160H620v160ZM180-180h160v-160H180v160Zm440 0h160v-160H620v160Z\"/>\n",
              "  </svg>\n",
              "    </button>\n",
              "\n",
              "  <style>\n",
              "    .colab-df-container {\n",
              "      display:flex;\n",
              "      gap: 12px;\n",
              "    }\n",
              "\n",
              "    .colab-df-convert {\n",
              "      background-color: #E8F0FE;\n",
              "      border: none;\n",
              "      border-radius: 50%;\n",
              "      cursor: pointer;\n",
              "      display: none;\n",
              "      fill: #1967D2;\n",
              "      height: 32px;\n",
              "      padding: 0 0 0 0;\n",
              "      width: 32px;\n",
              "    }\n",
              "\n",
              "    .colab-df-convert:hover {\n",
              "      background-color: #E2EBFA;\n",
              "      box-shadow: 0px 1px 2px rgba(60, 64, 67, 0.3), 0px 1px 3px 1px rgba(60, 64, 67, 0.15);\n",
              "      fill: #174EA6;\n",
              "    }\n",
              "\n",
              "    .colab-df-buttons div {\n",
              "      margin-bottom: 4px;\n",
              "    }\n",
              "\n",
              "    [theme=dark] .colab-df-convert {\n",
              "      background-color: #3B4455;\n",
              "      fill: #D2E3FC;\n",
              "    }\n",
              "\n",
              "    [theme=dark] .colab-df-convert:hover {\n",
              "      background-color: #434B5C;\n",
              "      box-shadow: 0px 1px 3px 1px rgba(0, 0, 0, 0.15);\n",
              "      filter: drop-shadow(0px 1px 2px rgba(0, 0, 0, 0.3));\n",
              "      fill: #FFFFFF;\n",
              "    }\n",
              "  </style>\n",
              "\n",
              "    <script>\n",
              "      const buttonEl =\n",
              "        document.querySelector('#df-a531fa7c-3e47-4b60-9317-82393c9728fb button.colab-df-convert');\n",
              "      buttonEl.style.display =\n",
              "        google.colab.kernel.accessAllowed ? 'block' : 'none';\n",
              "\n",
              "      async function convertToInteractive(key) {\n",
              "        const element = document.querySelector('#df-a531fa7c-3e47-4b60-9317-82393c9728fb');\n",
              "        const dataTable =\n",
              "          await google.colab.kernel.invokeFunction('convertToInteractive',\n",
              "                                                    [key], {});\n",
              "        if (!dataTable) return;\n",
              "\n",
              "        const docLinkHtml = 'Like what you see? Visit the ' +\n",
              "          '<a target=\"_blank\" href=https://colab.research.google.com/notebooks/data_table.ipynb>data table notebook</a>'\n",
              "          + ' to learn more about interactive tables.';\n",
              "        element.innerHTML = '';\n",
              "        dataTable['output_type'] = 'display_data';\n",
              "        await google.colab.output.renderOutput(dataTable, element);\n",
              "        const docLink = document.createElement('div');\n",
              "        docLink.innerHTML = docLinkHtml;\n",
              "        element.appendChild(docLink);\n",
              "      }\n",
              "    </script>\n",
              "  </div>\n",
              "\n",
              "\n",
              "    <div id=\"df-57258d43-20e8-43b3-8565-a15ea4d9d0c1\">\n",
              "      <button class=\"colab-df-quickchart\" onclick=\"quickchart('df-57258d43-20e8-43b3-8565-a15ea4d9d0c1')\"\n",
              "                title=\"Suggest charts\"\n",
              "                style=\"display:none;\">\n",
              "\n",
              "<svg xmlns=\"http://www.w3.org/2000/svg\" height=\"24px\"viewBox=\"0 0 24 24\"\n",
              "     width=\"24px\">\n",
              "    <g>\n",
              "        <path d=\"M19 3H5c-1.1 0-2 .9-2 2v14c0 1.1.9 2 2 2h14c1.1 0 2-.9 2-2V5c0-1.1-.9-2-2-2zM9 17H7v-7h2v7zm4 0h-2V7h2v10zm4 0h-2v-4h2v4z\"/>\n",
              "    </g>\n",
              "</svg>\n",
              "      </button>\n",
              "\n",
              "<style>\n",
              "  .colab-df-quickchart {\n",
              "      --bg-color: #E8F0FE;\n",
              "      --fill-color: #1967D2;\n",
              "      --hover-bg-color: #E2EBFA;\n",
              "      --hover-fill-color: #174EA6;\n",
              "      --disabled-fill-color: #AAA;\n",
              "      --disabled-bg-color: #DDD;\n",
              "  }\n",
              "\n",
              "  [theme=dark] .colab-df-quickchart {\n",
              "      --bg-color: #3B4455;\n",
              "      --fill-color: #D2E3FC;\n",
              "      --hover-bg-color: #434B5C;\n",
              "      --hover-fill-color: #FFFFFF;\n",
              "      --disabled-bg-color: #3B4455;\n",
              "      --disabled-fill-color: #666;\n",
              "  }\n",
              "\n",
              "  .colab-df-quickchart {\n",
              "    background-color: var(--bg-color);\n",
              "    border: none;\n",
              "    border-radius: 50%;\n",
              "    cursor: pointer;\n",
              "    display: none;\n",
              "    fill: var(--fill-color);\n",
              "    height: 32px;\n",
              "    padding: 0;\n",
              "    width: 32px;\n",
              "  }\n",
              "\n",
              "  .colab-df-quickchart:hover {\n",
              "    background-color: var(--hover-bg-color);\n",
              "    box-shadow: 0 1px 2px rgba(60, 64, 67, 0.3), 0 1px 3px 1px rgba(60, 64, 67, 0.15);\n",
              "    fill: var(--button-hover-fill-color);\n",
              "  }\n",
              "\n",
              "  .colab-df-quickchart-complete:disabled,\n",
              "  .colab-df-quickchart-complete:disabled:hover {\n",
              "    background-color: var(--disabled-bg-color);\n",
              "    fill: var(--disabled-fill-color);\n",
              "    box-shadow: none;\n",
              "  }\n",
              "\n",
              "  .colab-df-spinner {\n",
              "    border: 2px solid var(--fill-color);\n",
              "    border-color: transparent;\n",
              "    border-bottom-color: var(--fill-color);\n",
              "    animation:\n",
              "      spin 1s steps(1) infinite;\n",
              "  }\n",
              "\n",
              "  @keyframes spin {\n",
              "    0% {\n",
              "      border-color: transparent;\n",
              "      border-bottom-color: var(--fill-color);\n",
              "      border-left-color: var(--fill-color);\n",
              "    }\n",
              "    20% {\n",
              "      border-color: transparent;\n",
              "      border-left-color: var(--fill-color);\n",
              "      border-top-color: var(--fill-color);\n",
              "    }\n",
              "    30% {\n",
              "      border-color: transparent;\n",
              "      border-left-color: var(--fill-color);\n",
              "      border-top-color: var(--fill-color);\n",
              "      border-right-color: var(--fill-color);\n",
              "    }\n",
              "    40% {\n",
              "      border-color: transparent;\n",
              "      border-right-color: var(--fill-color);\n",
              "      border-top-color: var(--fill-color);\n",
              "    }\n",
              "    60% {\n",
              "      border-color: transparent;\n",
              "      border-right-color: var(--fill-color);\n",
              "    }\n",
              "    80% {\n",
              "      border-color: transparent;\n",
              "      border-right-color: var(--fill-color);\n",
              "      border-bottom-color: var(--fill-color);\n",
              "    }\n",
              "    90% {\n",
              "      border-color: transparent;\n",
              "      border-bottom-color: var(--fill-color);\n",
              "    }\n",
              "  }\n",
              "</style>\n",
              "\n",
              "      <script>\n",
              "        async function quickchart(key) {\n",
              "          const quickchartButtonEl =\n",
              "            document.querySelector('#' + key + ' button');\n",
              "          quickchartButtonEl.disabled = true;  // To prevent multiple clicks.\n",
              "          quickchartButtonEl.classList.add('colab-df-spinner');\n",
              "          try {\n",
              "            const charts = await google.colab.kernel.invokeFunction(\n",
              "                'suggestCharts', [key], {});\n",
              "          } catch (error) {\n",
              "            console.error('Error during call to suggestCharts:', error);\n",
              "          }\n",
              "          quickchartButtonEl.classList.remove('colab-df-spinner');\n",
              "          quickchartButtonEl.classList.add('colab-df-quickchart-complete');\n",
              "        }\n",
              "        (() => {\n",
              "          let quickchartButtonEl =\n",
              "            document.querySelector('#df-57258d43-20e8-43b3-8565-a15ea4d9d0c1 button');\n",
              "          quickchartButtonEl.style.display =\n",
              "            google.colab.kernel.accessAllowed ? 'block' : 'none';\n",
              "        })();\n",
              "      </script>\n",
              "    </div>\n",
              "\n",
              "    </div>\n",
              "  </div>\n"
            ],
            "application/vnd.google.colaboratory.intrinsic+json": {
              "type": "dataframe",
              "variable_name": "df",
              "summary": "{\n  \"name\": \"df\",\n  \"rows\": 3,\n  \"fields\": [\n    {\n      \"column\": \"Name\",\n      \"properties\": {\n        \"dtype\": \"string\",\n        \"num_unique_values\": 3,\n        \"samples\": [\n          \"Ethan\",\n          \"Isaiah\",\n          \"RJ\"\n        ],\n        \"semantic_type\": \"\",\n        \"description\": \"\"\n      }\n    },\n    {\n      \"column\": \" Age\",\n      \"properties\": {\n        \"dtype\": \"number\",\n        \"std\": 0,\n        \"min\": 21,\n        \"max\": 21,\n        \"num_unique_values\": 1,\n        \"samples\": [\n          21\n        ],\n        \"semantic_type\": \"\",\n        \"description\": \"\"\n      }\n    },\n    {\n      \"column\": \" GPA\",\n      \"properties\": {\n        \"dtype\": \"number\",\n        \"std\": 0.6048415770541351,\n        \"min\": 2.5,\n        \"max\": 3.65,\n        \"num_unique_values\": 3,\n        \"samples\": [\n          3.65\n        ],\n        \"semantic_type\": \"\",\n        \"description\": \"\"\n      }\n    }\n  ]\n}"
            }
          },
          "metadata": {},
          "execution_count": 10
        }
      ],
      "source": [
        "import pandas as pd\n",
        "\n",
        "with open('students.csv', 'w') as f:\n",
        "    f.write('Name, Age, GPA\\n')\n",
        "    f.write('Ethan, 21, 3.65\\n')\n",
        "    f.write('Isaiah, 21, 3.4\\n')\n",
        "    f.write('RJ, 21, 2.5')\n",
        "\n",
        "df = pd.read_csv('students.csv')\n",
        "df.head()"
      ],
      "id": "pxUMTbzYFcrg"
    },
    {
      "cell_type": "markdown",
      "metadata": {
        "id": "r5ZP4HQIFcrg"
      },
      "source": [
        "## Q6. Plotting\n",
        "Create a line plot of $y = x^2$ for $x$ values from 0 to 10."
      ],
      "id": "r5ZP4HQIFcrg"
    },
    {
      "cell_type": "code",
      "execution_count": 12,
      "metadata": {
        "id": "lwjr1GtRFcrg",
        "outputId": "dd8dc867-7ab8-44cc-b441-60623618fd71",
        "colab": {
          "base_uri": "https://localhost:8080/",
          "height": 472
        }
      },
      "outputs": [
        {
          "output_type": "display_data",
          "data": {
            "text/plain": [
              "<Figure size 640x480 with 1 Axes>"
            ],
            "image/png": "[encoded data removed]"
          },
          "metadata": {}
        }
      ],
      "source": [
        "import numpy as np\n",
        "import matplotlib.pyplot as plt\n",
        "\n",
        "x = np.linspace(0, 10, 100)\n",
        "y = x**2\n",
        "\n",
        "plt.plot(x, y)\n",
        "plt.title(\"Line Plot of y = x^2\")\n",
        "plt.xlabel(\"x\")\n",
        "plt.ylabel(\"y\")\n",
        "plt.show()\n"
      ],
      "id": "lwjr1GtRFcrg"
    },
    {
      "cell_type": "markdown",
      "metadata": {
        "id": "iOo4OXp6Fcrg"
      },
      "source": [
        "## Q7. Shortcuts\n",
        "In Command mode, what keyboard shortcut deletes a cell?"
      ],
      "id": "iOo4OXp6Fcrg"
    },
    {
      "cell_type": "markdown",
      "metadata": {
        "id": "DRQ37TCnFcrg"
      },
      "source": [
        "*Your Answer:* D D"
      ],
      "id": "DRQ37TCnFcrg"
    },
    {
      "cell_type": "markdown",
      "metadata": {
        "id": "7pNG9oPyFcrg"
      },
      "source": [
        "## Q8. Help and Docs\n",
        "Use `?` to display the docstring for `len`. Show the result."
      ],
      "id": "7pNG9oPyFcrg"
    },
    {
      "cell_type": "code",
      "execution_count": 13,
      "metadata": {
        "id": "PIH3dRJtFcrg"
      },
      "outputs": [],
      "source": [
        "len?"
      ],
      "id": "PIH3dRJtFcrg"
    },
    {
      "cell_type": "markdown",
      "metadata": {
        "id": "uksyR1X8Fcrg"
      },
      "source": [
        "## Q9. Timing\n",
        "Compare the runtime of squaring numbers using a Python loop vs. NumPy. Use `%timeit` for each."
      ],
      "id": "uksyR1X8Fcrg"
    },
    {
      "cell_type": "code",
      "execution_count": 17,
      "metadata": {
        "id": "i9LLcntTFcrg",
        "outputId": "abe58ffb-6b4e-49a1-ec51-e0180e902ff9",
        "colab": {
          "base_uri": "https://localhost:8080/"
        }
      },
      "outputs": [
        {
          "output_type": "stream",
          "name": "stdout",
          "text": [
            "20.2 µs ± 2.51 µs per loop (mean ± std. dev. of 7 runs, 100000 loops each)\n",
            "758 ns ± 72 ns per loop (mean ± std. dev. of 7 runs, 1000000 loops each)\n"
          ]
        }
      ],
      "source": [
        "myList = np.arange(100)\n",
        "\n",
        "%timeit [x**2 for x in myList]\n",
        "\n",
        "%timeit myList**2"
      ],
      "id": "i9LLcntTFcrg"
    },
    {
      "cell_type": "markdown",
      "metadata": {
        "id": "2x1qeJ79Fcrg"
      },
      "source": [
        "## Q10. Reflection\n",
        "Why is it useful to mix Markdown and code in Jupyter notebooks? Write 2–3 sentences."
      ],
      "id": "2x1qeJ79Fcrg"
    },
    {
      "cell_type": "markdown",
      "metadata": {
        "id": "hr3XPsYJFcrg"
      },
      "source": [
        "*Your Answer:* The markdown allows for better legibility and allows for more detailed explanations. The code is where the actual logic and solutions are done. So a mix of both allows for both the solution and explanations to be good."
      ],
      "id": "hr3XPsYJFcrg"
    }
  ],
  "metadata": {
    "kernelspec": {
      "display_name": "Python 3",
      "language": "python",
      "name": "python3"
    },
    "language_info": {
      "name": "python",
      "version": "3.x"
    },
    "colab": {
      "provenance": []
    }
  },
  "nbformat": 4,
  "nbformat_minor": 5
}