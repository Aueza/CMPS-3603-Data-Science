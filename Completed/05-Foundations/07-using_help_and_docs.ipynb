{
  "cells": [
    {
      "cell_type": "markdown",
      "metadata": {
        "id": "EmclRuc48Drq"
      },
      "source": [
        "# 📚 07 - Using Help and Documentation\n",
        "\n",
        "One of the most important skills in programming is knowing **how to get help**.  \n",
        "Jupyter/IPython make it easy to explore functions, classes, and objects.\n",
        "\n",
        "In this notebook you will learn:\n",
        "- Using `?` and `??` to view docstrings and source code\n",
        "- The built-in `help()` function\n",
        "- Tab completion for attributes and methods\n",
        "- Accessing external documentation\n"
      ],
      "id": "EmclRuc48Drq"
    },
    {
      "cell_type": "markdown",
      "metadata": {
        "id": "N6CYN3h68Drq"
      },
      "source": [
        "## 1. Using `?` for Quick Help"
      ],
      "id": "N6CYN3h68Drq"
    },
    {
      "cell_type": "code",
      "execution_count": 22,
      "metadata": {
        "id": "Cn4YFScm8Drr"
      },
      "outputs": [],
      "source": [
        "len?"
      ],
      "id": "Cn4YFScm8Drr"
    },
    {
      "cell_type": "code",
      "execution_count": 11,
      "metadata": {
        "id": "0iL36L0y8Drr"
      },
      "outputs": [],
      "source": [
        "print?"
      ],
      "id": "0iL36L0y8Drr"
    },
    {
      "cell_type": "markdown",
      "metadata": {
        "id": "_BFBTc9R8Drr"
      },
      "source": [
        "✅ **Your Turn**: Use `?` to check the documentation for `range` and `dict`."
      ],
      "id": "_BFBTc9R8Drr"
    },
    {
      "cell_type": "code",
      "source": [
        "range?"
      ],
      "metadata": {
        "id": "wgZsGgbmAC8T"
      },
      "id": "wgZsGgbmAC8T",
      "execution_count": 15,
      "outputs": []
    },
    {
      "cell_type": "code",
      "source": [
        "dict?"
      ],
      "metadata": {
        "id": "RCZE27BjANs2"
      },
      "id": "RCZE27BjANs2",
      "execution_count": 16,
      "outputs": []
    },
    {
      "cell_type": "markdown",
      "metadata": {
        "id": "JJ6iAsvb8Drr"
      },
      "source": [
        "## 2. Using `??` for Source Code (if available)"
      ],
      "id": "JJ6iAsvb8Drr"
    },
    {
      "cell_type": "code",
      "execution_count": 19,
      "metadata": {
        "id": "pNkccZzY8Drr"
      },
      "outputs": [],
      "source": [
        "sum??"
      ],
      "id": "pNkccZzY8Drr"
    },
    {
      "cell_type": "markdown",
      "metadata": {
        "id": "iKTtl2-X8Drr"
      },
      "source": [
        "✅ **Your Turn**: Use `??` on `pd.read_csv` (after importing pandas) to see if you can view more details."
      ],
      "id": "iKTtl2-X8Drr"
    },
    {
      "cell_type": "code",
      "source": [
        "import pandas as pd\n",
        "\n",
        "pd.read_csv??"
      ],
      "metadata": {
        "id": "JWuS3eNeAUx-"
      },
      "id": "JWuS3eNeAUx-",
      "execution_count": 20,
      "outputs": []
    },
    {
      "cell_type": "markdown",
      "metadata": {
        "id": "oPPt3SN78Drr"
      },
      "source": [
        "## 3. The `help()` Function"
      ],
      "id": "oPPt3SN78Drr"
    },
    {
      "cell_type": "code",
      "execution_count": 23,
      "metadata": {
        "id": "5yWciOeu8Drr",
        "outputId": "03923075-4feb-49c7-ece3-4ca6bfd09814",
        "colab": {
          "base_uri": "https://localhost:8080/"
        }
      },
      "outputs": [
        {
          "output_type": "stream",
          "name": "stdout",
          "text": [
            "Help on built-in function len in module builtins:\n",
            "\n",
            "len(obj, /)\n",
            "    Return the number of items in a container.\n",
            "\n"
          ]
        }
      ],
      "source": [
        "help(len)"
      ],
      "id": "5yWciOeu8Drr"
    },
    {
      "cell_type": "code",
      "execution_count": 24,
      "metadata": {
        "id": "D1N-S8M18Drr",
        "outputId": "d235100d-3c23-4d33-a72e-3d9f6e073df2",
        "colab": {
          "base_uri": "https://localhost:8080/"
        }
      },
      "outputs": [
        {
          "output_type": "stream",
          "name": "stdout",
          "text": [
            "Help on built-in function sqrt in module math:\n",
            "\n",
            "sqrt(x, /)\n",
            "    Return the square root of x.\n",
            "\n"
          ]
        }
      ],
      "source": [
        "import math\n",
        "help(math.sqrt)"
      ],
      "id": "D1N-S8M18Drr"
    },
    {
      "cell_type": "markdown",
      "metadata": {
        "id": "KVl0-JYx8Drr"
      },
      "source": [
        "✅ **Your Turn**: Use `help()` to explore `list.append` or `str.upper`."
      ],
      "id": "KVl0-JYx8Drr"
    },
    {
      "cell_type": "code",
      "source": [
        "help(list.append)"
      ],
      "metadata": {
        "id": "wdiAjh8ZA4vj",
        "outputId": "88cd9f9f-4787-428b-e498-bb3348126329",
        "colab": {
          "base_uri": "https://localhost:8080/"
        }
      },
      "id": "wdiAjh8ZA4vj",
      "execution_count": 25,
      "outputs": [
        {
          "output_type": "stream",
          "name": "stdout",
          "text": [
            "Help on method_descriptor:\n",
            "\n",
            "append(self, object, /) unbound builtins.list method\n",
            "    Append object to the end of the list.\n",
            "\n"
          ]
        }
      ]
    },
    {
      "cell_type": "code",
      "source": [
        "help(str.upper)"
      ],
      "metadata": {
        "id": "NDHFHMtpA6bG",
        "outputId": "8aea5889-af50-4ffe-ab1a-f8244305c017",
        "colab": {
          "base_uri": "https://localhost:8080/"
        }
      },
      "id": "NDHFHMtpA6bG",
      "execution_count": 26,
      "outputs": [
        {
          "output_type": "stream",
          "name": "stdout",
          "text": [
            "Help on method_descriptor:\n",
            "\n",
            "upper(self, /) unbound builtins.str method\n",
            "    Return a copy of the string converted to uppercase.\n",
            "\n"
          ]
        }
      ]
    },
    {
      "cell_type": "markdown",
      "metadata": {
        "id": "GKBzumHw8Drr"
      },
      "source": [
        "## 4. Tab Completion"
      ],
      "id": "GKBzumHw8Drr"
    },
    {
      "cell_type": "markdown",
      "metadata": {
        "id": "iUa1OgOp8Drs"
      },
      "source": [
        "In a Jupyter cell, type an object name followed by a dot and press `Tab` to see available methods.\n",
        "\n",
        "Example:\n",
        "```python\n",
        "mylist = []\n",
        "mylist.<TAB>\n",
        "```\n",
        "will show you all methods like `append`, `clear`, `copy`, etc."
      ],
      "id": "iUa1OgOp8Drs"
    },
    {
      "cell_type": "markdown",
      "metadata": {
        "id": "y6sKYvgx8Drs"
      },
      "source": [
        "✅ **Your Turn**: Create a dictionary and use tab completion to explore its methods."
      ],
      "id": "y6sKYvgx8Drs"
    },
    {
      "cell_type": "code",
      "source": [
        "myDict = {}\n",
        "myDict.clear()"
      ],
      "metadata": {
        "id": "vNH0LEwmA-HS"
      },
      "id": "vNH0LEwmA-HS",
      "execution_count": 27,
      "outputs": []
    },
    {
      "cell_type": "markdown",
      "metadata": {
        "id": "8SB7CMS28Drs"
      },
      "source": [
        "## 5. External Documentation"
      ],
      "id": "8SB7CMS28Drs"
    },
    {
      "cell_type": "markdown",
      "metadata": {
        "id": "WmvSR1f78Drs"
      },
      "source": [
        "- Many libraries (like Pandas, NumPy, Matplotlib) have excellent online docs.\n",
        "- Example: [https://pandas.pydata.org/docs/](https://pandas.pydata.org/docs/)\n",
        "- You can Google: `pandas read_csv site:pandas.pydata.org`"
      ],
      "id": "WmvSR1f78Drs"
    },
    {
      "cell_type": "markdown",
      "metadata": {
        "id": "1V1eclmT8Drs"
      },
      "source": [
        "✅ **Your Turn**: Look up the official documentation for Matplotlib’s `plt.plot` online."
      ],
      "id": "1V1eclmT8Drs"
    },
    {
      "cell_type": "markdown",
      "metadata": {
        "id": "dg1B1b6Q8Drs"
      },
      "source": [
        "---\n",
        "### Summary\n",
        "- `?` gives quick documentation.\n",
        "- `??` shows source if available.\n",
        "- `help()` is Python’s built-in way.\n",
        "- Tab completion speeds up discovery.\n",
        "- External docs are your best friend for deeper dives.\n"
      ],
      "id": "dg1B1b6Q8Drs"
    }
  ],
  "metadata": {
    "kernelspec": {
      "display_name": "Python 3",
      "language": "python",
      "name": "python3"
    },
    "language_info": {
      "name": "python",
      "version": "3.x"
    },
    "colab": {
      "provenance": []
    }
  },
  "nbformat": 4,
  "nbformat_minor": 5
}