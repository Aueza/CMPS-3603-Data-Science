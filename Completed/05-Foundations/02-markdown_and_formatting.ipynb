{
  "cells": [
    {
      "cell_type": "markdown",
      "metadata": {
        "id": "s5MVUCoUvVUr"
      },
      "source": [
        "# 📝 02 - Markdown and Formatting\n",
        "\n",
        "Jupyter notebooks are not just for code — you can mix **Markdown** and code to create clear, professional-looking reports.\n",
        "\n",
        "This notebook introduces:\n",
        "- Writing Markdown cells (headings, lists, links)\n",
        "- Adding inline **LaTeX math**\n",
        "- Embedding images\n",
        "- Why formatting matters in data science communication\n"
      ],
      "id": "s5MVUCoUvVUr"
    },
    {
      "cell_type": "markdown",
      "metadata": {
        "id": "xraZhHBUvVUs"
      },
      "source": [
        "## 1. Headings and Text Styles"
      ],
      "id": "xraZhHBUvVUs"
    },
    {
      "cell_type": "markdown",
      "metadata": {
        "id": "8136Q1zdvVUs"
      },
      "source": [
        "### Example\n",
        "# Heading 1\n",
        "## Heading 2\n",
        "### Heading 3\n",
        "\n",
        "**Bold text**, *italic text*, `inline code`"
      ],
      "id": "8136Q1zdvVUs"
    },
    {
      "cell_type": "markdown",
      "metadata": {
        "id": "Vbm3vEBxvVUs"
      },
      "source": [
        "✅ **Your Turn**: Create a cell with the heading `## My Favorite Data Tools` and list at least three tools in bold."
      ],
      "id": "Vbm3vEBxvVUs"
    },
    {
      "cell_type": "markdown",
      "source": [
        "## My Favorite Data Tools\n",
        "\n",
        "**Databricks**\n",
        "\n",
        "**Snowflake**\n",
        "\n",
        "**ADLS**\n"
      ],
      "metadata": {
        "id": "IiNqzHvkwG0Y"
      },
      "id": "IiNqzHvkwG0Y"
    },
    {
      "cell_type": "markdown",
      "metadata": {
        "id": "wOCCExLhvVUs"
      },
      "source": [
        "## 2. Lists"
      ],
      "id": "wOCCExLhvVUs"
    },
    {
      "cell_type": "markdown",
      "metadata": {
        "id": "wPiynuWcvVUs"
      },
      "source": [
        "### Example\n",
        "- Item 1\n",
        "- Item 2\n",
        "  - Sub-item 2a\n",
        "  - Sub-item 2b\n",
        "\n",
        "1. First\n",
        "2. Second\n",
        "3. Third"
      ],
      "id": "wPiynuWcvVUs"
    },
    {
      "cell_type": "markdown",
      "metadata": {
        "id": "_XUj5Fy8vVUs"
      },
      "source": [
        "✅ **Your Turn**: Make an ordered list of your top 3 programming languages."
      ],
      "id": "_XUj5Fy8vVUs"
    },
    {
      "cell_type": "markdown",
      "source": [
        "## Top 3 Programming Languages\n",
        "- Python\n",
        "- C++\n",
        "- SQL\n"
      ],
      "metadata": {
        "id": "Mks9zgilwWhU"
      },
      "id": "Mks9zgilwWhU"
    },
    {
      "cell_type": "markdown",
      "metadata": {
        "id": "jox51az8vVUs"
      },
      "source": [
        "## 3. Links and Images"
      ],
      "id": "jox51az8vVUs"
    },
    {
      "cell_type": "markdown",
      "metadata": {
        "id": "N0DuxplUvVUs"
      },
      "source": [
        "### Links\n",
        "[OpenAI](https://www.openai.com)\n",
        "\n",
        "### Images\n",
        "![MSU Logo](https://upload.wikimedia.org/wikipedia/en/8/8b/Midwestern_State_University_seal.png)"
      ],
      "id": "N0DuxplUvVUs"
    },
    {
      "cell_type": "markdown",
      "metadata": {
        "id": "audqq58evVUs"
      },
      "source": [
        "✅ **Your Turn**: Insert a link to your favorite website and embed an image (can be a URL or local file)."
      ],
      "id": "audqq58evVUs"
    },
    {
      "cell_type": "markdown",
      "source": [
        "### Link\n",
        "[ESPN](https://www.espn.com/)\n",
        "\n",
        "### Image\n",
        "![Logo](https://wallpapers.com/american-airlines)\n"
      ],
      "metadata": {
        "id": "MD2z1XeQ71JM"
      },
      "id": "MD2z1XeQ71JM"
    },
    {
      "cell_type": "markdown",
      "metadata": {
        "id": "fbWIp_2WvVUt"
      },
      "source": [
        "## 4. LaTeX Math"
      ],
      "id": "fbWIp_2WvVUt"
    },
    {
      "cell_type": "markdown",
      "metadata": {
        "id": "-KknN2lIvVUt"
      },
      "source": [
        "You can render math using LaTeX syntax inside `$ ... $` for inline or `$$ ... $$` for block math.\n",
        "\n",
        "Example:  \n",
        "Inline: $E = mc^2$  \n",
        "Block:\n",
        "$$\n",
        "\\frac{\\partial f}{\\partial x} = 2x\n",
        "$$"
      ],
      "id": "-KknN2lIvVUt"
    },
    {
      "cell_type": "markdown",
      "metadata": {
        "id": "Ae41rVWnvVUt"
      },
      "source": [
        "✅ **Your Turn**: Write the quadratic formula in LaTeX."
      ],
      "id": "Ae41rVWnvVUt"
    },
    {
      "cell_type": "markdown",
      "metadata": {
        "id": "e41c0978"
      },
      "source": [
        "## Quadratic Formula\n",
        "$$\n",
        "x = \\frac{-b \\pm \\sqrt{b^2 - 4ac}}{2a}\n",
        "$$"
      ],
      "id": "e41c0978"
    },
    {
      "cell_type": "markdown",
      "metadata": {
        "id": "590DzadEvVUt"
      },
      "source": [
        "## 5. Mixing Code and Markdown"
      ],
      "id": "590DzadEvVUt"
    },
    {
      "cell_type": "code",
      "execution_count": 4,
      "metadata": {
        "colab": {
          "base_uri": "https://localhost:8080/"
        },
        "id": "TKT2VJuLvVUt",
        "outputId": "2dd84705-8945-40de-be48-8fcf2d72e2aa"
      },
      "outputs": [
        {
          "output_type": "execute_result",
          "data": {
            "text/plain": [
              "[1, 4, 9, 16, 25]"
            ]
          },
          "metadata": {},
          "execution_count": 4
        }
      ],
      "source": [
        "# Example: create data in Python\n",
        "numbers = [1, 2, 3, 4, 5]\n",
        "squares = [n**2 for n in numbers]\n",
        "squares"
      ],
      "id": "TKT2VJuLvVUt"
    },
    {
      "cell_type": "markdown",
      "metadata": {
        "id": "vhEhCqbWvVUt"
      },
      "source": [
        "Now we explain results in Markdown:\n",
        "- The list `numbers` contained 1–5.\n",
        "- The list `squares` contains each number squared.\n",
        "- Mixing narrative + results is why notebooks are so powerful."
      ],
      "id": "vhEhCqbWvVUt"
    },
    {
      "cell_type": "markdown",
      "metadata": {
        "id": "jBOQf05tvVUt"
      },
      "source": [
        "✅ **Your Turn**: Create a list of 3 numbers, calculate their cubes in code, then explain in Markdown."
      ],
      "id": "jBOQf05tvVUt"
    },
    {
      "cell_type": "code",
      "source": [
        "nums = [1,3,5]\n",
        "cubes = [n**3 for n in nums]\n",
        "cubes"
      ],
      "metadata": {
        "id": "XwBFr7CZ87_x",
        "outputId": "ee9a3b37-5fbd-45be-dfbc-cbf0eaba9fd8",
        "colab": {
          "base_uri": "https://localhost:8080/"
        }
      },
      "id": "XwBFr7CZ87_x",
      "execution_count": 5,
      "outputs": [
        {
          "output_type": "execute_result",
          "data": {
            "text/plain": [
              "[1, 27, 125]"
            ]
          },
          "metadata": {},
          "execution_count": 5
        }
      ]
    },
    {
      "cell_type": "markdown",
      "source": [
        "### Results\n",
        "- The list `nums` contained 1,3,5\n",
        "- The list `cubes` contains each number cubed."
      ],
      "metadata": {
        "id": "CRXjyAwB9CfJ"
      },
      "id": "CRXjyAwB9CfJ"
    },
    {
      "cell_type": "markdown",
      "metadata": {
        "id": "vkIJ6GfJvVUt"
      },
      "source": [
        "---\n",
        "### Summary\n",
        "- Use headings and formatting to organize.\n",
        "- Lists and links make content readable.\n",
        "- LaTeX lets you add professional math.\n",
        "- Combine code + Markdown for clear data storytelling.\n"
      ],
      "id": "vkIJ6GfJvVUt"
    }
  ],
  "metadata": {
    "kernelspec": {
      "display_name": "Python 3",
      "language": "python",
      "name": "python3"
    },
    "language_info": {
      "name": "python",
      "version": "3.x"
    },
    "colab": {
      "provenance": []
    }
  },
  "nbformat": 4,
  "nbformat_minor": 5
}