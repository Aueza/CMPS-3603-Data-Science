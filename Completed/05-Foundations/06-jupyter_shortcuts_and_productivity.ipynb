{
  "cells": [
    {
      "cell_type": "markdown",
      "metadata": {
        "id": "EHQzDJ1b7AkU"
      },
      "source": [
        "# ⚡ 06 - Jupyter Shortcuts and Productivity\n",
        "\n",
        "Jupyter notebooks have **keyboard shortcuts and tricks** that make you faster.  \n",
        "In this notebook you will learn:\n",
        "- Command vs. Edit mode\n",
        "- Essential keyboard shortcuts\n",
        "- Saving and exporting notebooks\n",
        "- Using `%history` and `%save`\n"
      ],
      "id": "EHQzDJ1b7AkU"
    },
    {
      "cell_type": "markdown",
      "metadata": {
        "id": "o0RyogGR7AkV"
      },
      "source": [
        "## 1. Modes in Jupyter"
      ],
      "id": "o0RyogGR7AkV"
    },
    {
      "cell_type": "markdown",
      "metadata": {
        "id": "ND25ga7E7AkV"
      },
      "source": [
        "- **Edit mode** (green border, type in cell)\n",
        "- **Command mode** (blue border, issue commands on the notebook)\n",
        "\n",
        "Switch:\n",
        "- Press `Enter` → Edit mode\n",
        "- Press `Esc` → Command mode"
      ],
      "id": "ND25ga7E7AkV"
    },
    {
      "cell_type": "markdown",
      "metadata": {
        "id": "fT_5HUeV7AkW"
      },
      "source": [
        "✅ **Your Turn**: Try switching between Edit and Command mode and notice the border color."
      ],
      "id": "fT_5HUeV7AkW"
    },
    {
      "cell_type": "markdown",
      "metadata": {
        "id": "GYFtEogq7AkW"
      },
      "source": [
        "## 2. Common Shortcuts"
      ],
      "id": "GYFtEogq7AkW"
    },
    {
      "cell_type": "markdown",
      "metadata": {
        "id": "WAsMZdym7AkW"
      },
      "source": [
        "- `A` → Insert cell Above\n",
        "- `B` → Insert cell Below\n",
        "- `D D` → Delete a cell\n",
        "- `M` → Change to Markdown cell\n",
        "- `Y` → Change to Code cell\n",
        "- `Shift + Enter` → Run cell and move to next\n",
        "- `Ctrl + Enter` → Run cell, stay put\n",
        "- `Alt + Enter` → Run cell and insert new one below"
      ],
      "id": "WAsMZdym7AkW"
    },
    {
      "cell_type": "markdown",
      "metadata": {
        "id": "_L6V3ffC7AkW"
      },
      "source": [
        "✅ **Your Turn**: Practice creating, deleting, and changing cell types using only shortcuts."
      ],
      "id": "_L6V3ffC7AkW"
    },
    {
      "cell_type": "markdown",
      "metadata": {
        "id": "MjR19Esn7AkW"
      },
      "source": [
        "## 3. Saving and Exporting"
      ],
      "id": "MjR19Esn7AkW"
    },
    {
      "cell_type": "markdown",
      "metadata": {
        "id": "3reMH47h7AkW"
      },
      "source": [
        "- `Ctrl + S` (or `Cmd + S` on Mac) → Save notebook\n",
        "- Menu: *File → Download as…* → export to `.py`, `.html`, or `.pdf`\n",
        "- GitHub + Colab workflow: commit changes back to your repo directly"
      ],
      "id": "3reMH47h7AkW"
    },
    {
      "cell_type": "markdown",
      "metadata": {
        "id": "ocxsHo8k7AkW"
      },
      "source": [
        "✅ **Your Turn**: Save this notebook, then try exporting to `.py` or `.html` from the File menu."
      ],
      "id": "ocxsHo8k7AkW"
    },
    {
      "cell_type": "markdown",
      "metadata": {
        "id": "m65TB6IH7AkX"
      },
      "source": [
        "## 4. History and Saving Code"
      ],
      "id": "m65TB6IH7AkX"
    },
    {
      "cell_type": "code",
      "execution_count": 4,
      "metadata": {
        "id": "jo93NbCK7AkX",
        "outputId": "11784b66-b7e9-4c4b-ce1f-2dbc9e8e5dd6",
        "colab": {
          "base_uri": "https://localhost:8080/"
        }
      },
      "outputs": [
        {
          "output_type": "stream",
          "name": "stdout",
          "text": [
            "   1: %history -n 1-5  # Show the first 5 commands in this session\n",
            "   2: %history -n 1-5  # Show the first 5 commands in this session\n",
            "   3:\n",
            "# Save history to a file\n",
            "%save my_session.py 1-5\n",
            "   4: %history -n 1-5  # Show the first 5 commands in this session\n"
          ]
        }
      ],
      "source": [
        "%history -n 1-5  # Show the first 5 commands in this session"
      ],
      "id": "jo93NbCK7AkX"
    },
    {
      "cell_type": "code",
      "execution_count": 5,
      "metadata": {
        "id": "EIVVDv2D7AkX",
        "outputId": "7686b8ed-4332-4733-dfe5-f8486a7b436b",
        "colab": {
          "base_uri": "https://localhost:8080/"
        }
      },
      "outputs": [
        {
          "output_type": "stream",
          "name": "stdout",
          "text": [
            "File `my_session.py` exists. Overwrite (y/[N])?  y\n",
            "The following commands were written to file `my_session.py`:\n",
            "get_ipython().run_line_magic('history', '-n 1-5  # Show the first 5 commands in this session')\n",
            "get_ipython().run_line_magic('history', '-n 1-5  # Show the first 5 commands in this session')\n",
            "# Save history to a file\n",
            "get_ipython().run_line_magic('save', 'my_session.py 1-5')\n",
            "get_ipython().run_line_magic('history', '-n 1-5  # Show the first 5 commands in this session')\n",
            "# Save history to a file\n",
            "get_ipython().run_line_magic('save', 'my_session.py 1-5')\n"
          ]
        }
      ],
      "source": [
        "# Save history to a file\n",
        "%save my_session.py 1-5"
      ],
      "id": "EIVVDv2D7AkX"
    },
    {
      "cell_type": "markdown",
      "metadata": {
        "id": "4aIyzTAR7AkX"
      },
      "source": [
        "✅ **Your Turn**: Use `%history` to view the last 10 commands you ran, then save them to `last10.py`."
      ],
      "id": "4aIyzTAR7AkX"
    },
    {
      "cell_type": "markdown",
      "metadata": {
        "id": "vgk5eCzs7AkX"
      },
      "source": [
        "---\n",
        "### Summary\n",
        "- Command vs Edit mode controls how you interact with cells.\n",
        "- Shortcuts make notebook use much faster.\n",
        "- You can export notebooks to share or turn them into scripts.\n",
        "- `%history` and `%save` help you capture your work.\n"
      ],
      "id": "vgk5eCzs7AkX"
    }
  ],
  "metadata": {
    "kernelspec": {
      "display_name": "Python 3",
      "language": "python",
      "name": "python3"
    },
    "language_info": {
      "name": "python",
      "version": "3.x"
    },
    "colab": {
      "provenance": []
    }
  },
  "nbformat": 4,
  "nbformat_minor": 5
}