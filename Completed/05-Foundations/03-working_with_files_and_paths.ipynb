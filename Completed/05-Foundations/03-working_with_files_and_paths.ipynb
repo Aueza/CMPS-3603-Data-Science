{
  "cells": [
    {
      "cell_type": "markdown",
      "metadata": {
        "id": "sZQ2ERCfkOxw"
      },
      "source": [
        "# 📂 03 - Working with Files and Paths\n",
        "\n",
        "Data science means working with files all the time: datasets, config files, logs.  \n",
        "This notebook introduces:\n",
        "- Checking your current path in Jupyter\n",
        "- Navigating directories\n",
        "- Reading and writing text files\n",
        "- Using `with` for safe file handling\n",
        "- Basics of JSON and CSV I/O\n"
      ],
      "id": "sZQ2ERCfkOxw"
    },
    {
      "cell_type": "markdown",
      "metadata": {
        "id": "zclYPVFCkOxw"
      },
      "source": [
        "## 1. Where Am I?"
      ],
      "id": "zclYPVFCkOxw"
    },
    {
      "cell_type": "code",
      "execution_count": 1,
      "metadata": {
        "id": "_3K_WOQGkOxw",
        "outputId": "cf03243f-fbb5-410d-a66e-b5a724cb6347",
        "colab": {
          "base_uri": "https://localhost:8080/",
          "height": 35
        }
      },
      "outputs": [
        {
          "output_type": "execute_result",
          "data": {
            "text/plain": [
              "'/content'"
            ],
            "application/vnd.google.colaboratory.intrinsic+json": {
              "type": "string"
            }
          },
          "metadata": {},
          "execution_count": 1
        }
      ],
      "source": [
        "%pwd  # Print current working directory"
      ],
      "id": "_3K_WOQGkOxw"
    },
    {
      "cell_type": "code",
      "execution_count": 2,
      "metadata": {
        "id": "AkVlnNADkOxx",
        "outputId": "c3509029-3f82-4537-d213-f448b619e90c",
        "colab": {
          "base_uri": "https://localhost:8080/"
        }
      },
      "outputs": [
        {
          "output_type": "stream",
          "name": "stdout",
          "text": [
            "\u001b[0m\u001b[01;34msample_data\u001b[0m/\n"
          ]
        }
      ],
      "source": [
        "%ls  # List files in the current directory"
      ],
      "id": "AkVlnNADkOxx"
    },
    {
      "cell_type": "code",
      "execution_count": 3,
      "metadata": {
        "id": "89kTJv08kOxx",
        "outputId": "91440e5e-08cf-4c04-f5f5-7e57d8797c91",
        "colab": {
          "base_uri": "https://localhost:8080/",
          "height": 70
        }
      },
      "outputs": [
        {
          "output_type": "stream",
          "name": "stdout",
          "text": [
            "[Errno 2] No such file or directory: '.. # Change to parent directory'\n",
            "/content\n"
          ]
        },
        {
          "output_type": "execute_result",
          "data": {
            "text/plain": [
              "'/content'"
            ],
            "application/vnd.google.colaboratory.intrinsic+json": {
              "type": "string"
            }
          },
          "metadata": {},
          "execution_count": 3
        }
      ],
      "source": [
        "%cd ..  # Change to parent directory\n",
        "%pwd"
      ],
      "id": "89kTJv08kOxx"
    },
    {
      "cell_type": "markdown",
      "metadata": {
        "id": "XSLH8TgRkOxx"
      },
      "source": [
        "✅ **Your Turn**: Navigate into a subfolder of your repo (e.g., `Foundations/`) and list its contents."
      ],
      "id": "XSLH8TgRkOxx"
    },
    {
      "cell_type": "markdown",
      "metadata": {
        "id": "o09fHe7XkOxx"
      },
      "source": [
        "## 2. Writing and Reading Text Files"
      ],
      "id": "o09fHe7XkOxx"
    },
    {
      "cell_type": "code",
      "execution_count": 4,
      "metadata": {
        "id": "8gZjFZqSkOxx"
      },
      "outputs": [],
      "source": [
        "# Writing to a text file\n",
        "with open(\"/content/example.txt\", \"w\") as f:\n",
        "    f.write(\"Hello, Jupyter!\\n\")\n",
        "    f.write(\"This is a text file.\\n\")"
      ],
      "id": "8gZjFZqSkOxx"
    },
    {
      "cell_type": "code",
      "execution_count": 5,
      "metadata": {
        "id": "rX6fQqN5kOxx",
        "outputId": "ad492f31-8e42-40cf-8eb9-5d466dcf4220",
        "colab": {
          "base_uri": "https://localhost:8080/",
          "height": 35
        }
      },
      "outputs": [
        {
          "output_type": "execute_result",
          "data": {
            "text/plain": [
              "'Hello, Jupyter!\\nThis is a text file.\\n'"
            ],
            "application/vnd.google.colaboratory.intrinsic+json": {
              "type": "string"
            }
          },
          "metadata": {},
          "execution_count": 5
        }
      ],
      "source": [
        "# Reading from a text file\n",
        "with open(\"/content/example.txt\", \"r\") as f:\n",
        "    contents = f.read()\n",
        "contents"
      ],
      "id": "rX6fQqN5kOxx"
    },
    {
      "cell_type": "markdown",
      "metadata": {
        "id": "TBq4XLyckOxx"
      },
      "source": [
        "✅ **Your Turn**: Write your name into a file called `me.txt`, then read it back and print the result."
      ],
      "id": "TBq4XLyckOxx"
    },
    {
      "cell_type": "code",
      "source": [
        "with open(\"/content/me.txt\", \"w\") as f:\n",
        "    f.write(\"Ethan\\n\")\n",
        "\n",
        "with open(\"/content/me.txt\", \"r\") as f:\n",
        "    contents = f.read()\n",
        "contents\n"
      ],
      "metadata": {
        "id": "YzVjazDUf09I",
        "outputId": "f583e37d-5bfa-434a-efb8-020b31d89e47",
        "colab": {
          "base_uri": "https://localhost:8080/",
          "height": 35
        }
      },
      "id": "YzVjazDUf09I",
      "execution_count": 14,
      "outputs": [
        {
          "output_type": "execute_result",
          "data": {
            "text/plain": [
              "'Ethan\\n'"
            ],
            "application/vnd.google.colaboratory.intrinsic+json": {
              "type": "string"
            }
          },
          "metadata": {},
          "execution_count": 14
        }
      ]
    },
    {
      "cell_type": "markdown",
      "metadata": {
        "id": "cIkXrlWHkOxx"
      },
      "source": [
        "## 3. JSON Files"
      ],
      "id": "cIkXrlWHkOxx"
    },
    {
      "cell_type": "code",
      "execution_count": 16,
      "metadata": {
        "id": "sP95hbdgkOxx",
        "outputId": "93045fef-34db-4d53-e4ef-2cba52ccb91a",
        "colab": {
          "base_uri": "https://localhost:8080/"
        }
      },
      "outputs": [
        {
          "output_type": "execute_result",
          "data": {
            "text/plain": [
              "{'name': 'Graylian', 'type': 'mascot', 'skills': ['howl', 'parrot talk']}"
            ]
          },
          "metadata": {},
          "execution_count": 16
        }
      ],
      "source": [
        "import json\n",
        "\n",
        "data = {\"name\": \"Graylian\", \"type\": \"mascot\", \"skills\": [\"howl\", \"parrot talk\"]}\n",
        "\n",
        "# Write JSON\n",
        "with open(\"/content/data.json\", \"w\") as f:\n",
        "    json.dump(data, f)\n",
        "\n",
        "# Read JSON\n",
        "with open(\"/content/data.json\", \"r\") as f:\n",
        "    loaded = json.load(f)\n",
        "loaded"
      ],
      "id": "sP95hbdgkOxx"
    },
    {
      "cell_type": "markdown",
      "metadata": {
        "id": "yT2j5vLrkOxx"
      },
      "source": [
        "✅ **Your Turn**: Create a dictionary with your name and 2-3 favorite courses. Save it to `courses.json`, then read it back."
      ],
      "id": "yT2j5vLrkOxx"
    },
    {
      "cell_type": "code",
      "source": [
        "data = {\"Programming Techniques\": \"Dr. Griffin\", \"Database Management\": \"Dr. Lopa\", \"Artificial Intelligence\": \"Dr. C\"}\n",
        "\n",
        "with open(\"/content/courses.json\", \"w\") as f:\n",
        "    json.dump(data, f)\n",
        "\n",
        "with open(\"/content/courses.json\", \"r\") as f:\n",
        "    loaded = json.load(f)\n",
        "loaded"
      ],
      "metadata": {
        "id": "5xlkHWj9g2wF",
        "outputId": "ccb68d2d-54ce-4231-9ffa-1f876fd0fd7d",
        "colab": {
          "base_uri": "https://localhost:8080/"
        }
      },
      "id": "5xlkHWj9g2wF",
      "execution_count": 18,
      "outputs": [
        {
          "output_type": "execute_result",
          "data": {
            "text/plain": [
              "{'Programming Techniques': 'Dr. Griffin',\n",
              " 'Database Management': 'Dr. Lopa',\n",
              " 'Artificial Intelligence': 'Dr. C'}"
            ]
          },
          "metadata": {},
          "execution_count": 18
        }
      ]
    },
    {
      "cell_type": "markdown",
      "metadata": {
        "id": "9-PRB8GZkOxx"
      },
      "source": [
        "## 4. CSV Files"
      ],
      "id": "9-PRB8GZkOxx"
    },
    {
      "cell_type": "code",
      "execution_count": 20,
      "metadata": {
        "id": "xFOlDzm2kOxx",
        "outputId": "1e63ed9d-25e5-4b38-d3aa-27aa9b00b89f",
        "colab": {
          "base_uri": "https://localhost:8080/"
        }
      },
      "outputs": [
        {
          "output_type": "stream",
          "name": "stdout",
          "text": [
            "['Name', 'Score']\n",
            "['Alice', '90']\n",
            "['Bob', '85']\n"
          ]
        }
      ],
      "source": [
        "import csv\n",
        "\n",
        "# Writing CSV\n",
        "rows = [[\"Name\", \"Score\"], [\"Alice\", 90], [\"Bob\", 85]]\n",
        "with open(\"scores.csv\", \"w\", newline=\"\") as f:\n",
        "    writer = csv.writer(f)\n",
        "    writer.writerows(rows)\n",
        "\n",
        "# Reading CSV\n",
        "with open(\"scores.csv\", \"r\") as f:\n",
        "    reader = csv.reader(f)\n",
        "    for row in reader:\n",
        "        print(row)"
      ],
      "id": "xFOlDzm2kOxx"
    },
    {
      "cell_type": "markdown",
      "metadata": {
        "id": "dpcFzxTKkOxx"
      },
      "source": [
        "✅ **Your Turn**: Create a CSV with 3 rows of your own data (e.g., pets, grades, or hobbies). Read it back and display the rows."
      ],
      "id": "dpcFzxTKkOxx"
    },
    {
      "cell_type": "code",
      "source": [
        "rows = [[\"Pet\", \"Age\"], [\"Archer\", 5], [\"Raven\", 4]]\n",
        "with open(\"pets.csv\", \"w\", newline=\"\") as f:\n",
        "    writer = csv.writer(f)\n",
        "    writer.writerows(rows)\n",
        "\n",
        "with open(\"pets.csv\", \"r\") as f:\n",
        "    reader = csv.reader(f)\n",
        "    for row in reader:\n",
        "        print(row)"
      ],
      "metadata": {
        "id": "augZ2-kThmO6",
        "outputId": "05cbe3f9-ab9e-4081-b954-752ee9cf4fd3",
        "colab": {
          "base_uri": "https://localhost:8080/"
        }
      },
      "id": "augZ2-kThmO6",
      "execution_count": 21,
      "outputs": [
        {
          "output_type": "stream",
          "name": "stdout",
          "text": [
            "['Pet', 'Age']\n",
            "['Archer', '5']\n",
            "['Raven', '4']\n"
          ]
        }
      ]
    },
    {
      "cell_type": "markdown",
      "metadata": {
        "id": "cdlLiT5CkOxx"
      },
      "source": [
        "---\n",
        "### Summary\n",
        "- `%pwd`, `%ls`, `%cd` show you where you are in the filesystem.\n",
        "- Use `with open(...)` to safely read/write files.\n",
        "- JSON is for structured data (key/value).\n",
        "- CSV is for tabular data (rows/columns).\n",
        "- Managing files is step 1 in any real data science project.\n"
      ],
      "id": "cdlLiT5CkOxx"
    }
  ],
  "metadata": {
    "kernelspec": {
      "display_name": "Python 3",
      "language": "python",
      "name": "python3"
    },
    "language_info": {
      "name": "python",
      "version": "3.x"
    },
    "colab": {
      "provenance": []
    }
  },
  "nbformat": 4,
  "nbformat_minor": 5
}