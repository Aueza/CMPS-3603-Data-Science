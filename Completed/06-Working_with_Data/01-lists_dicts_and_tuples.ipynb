{
  "cells": [
    {
      "cell_type": "markdown",
      "metadata": {
        "id": "8cxNAtA1IEfU"
      },
      "source": [
        "# 🧠 Notebook 01: Lists, Dicts, Tuples, and Sets (Oh My!)\n",
        "\n",
        "Welcome, data tamer. Before we dance with DataFrames and juggle Series, we must revisit the sacred scrolls of Python's core data structures.\n",
        "\n",
        "In this notebook, you will:\n",
        "- Recap the mighty `list`, `dict`, `tuple`, and `set`\n",
        "- Learn what makes each special (besides being annoying to explain at parties)\n",
        "- Practice slicing, accessing, and modifying them\n",
        "- Build up intuition for working with structured data\n",
        "\n",
        "---"
      ]
    },
    {
      "cell_type": "markdown",
      "metadata": {
        "id": "0zQFh45GIEfV"
      },
      "source": [
        "## 🧺 Lists\n",
        "`list`: Ordered, mutable, and basically the cargo pants of Python."
      ]
    },
    {
      "cell_type": "code",
      "execution_count": 1,
      "metadata": {
        "id": "H0d2LvGIIEfV",
        "outputId": "a075188e-b38c-4ef5-c83f-2297e8bc73ba",
        "colab": {
          "base_uri": "https://localhost:8080/"
        }
      },
      "outputs": [
        {
          "output_type": "stream",
          "name": "stdout",
          "text": [
            "First fruit: apple\n",
            "Last fruit: dragonfruit\n",
            "Updated list: ['apple', 'banana', 'cherry', 'dragonfruit', 'elderberry']\n"
          ]
        }
      ],
      "source": [
        "fruits = [\"apple\", \"banana\", \"cherry\", \"dragonfruit\"]\n",
        "print(\"First fruit:\", fruits[0])\n",
        "print(\"Last fruit:\", fruits[-1])\n",
        "\n",
        "fruits.append(\"elderberry\")\n",
        "print(\"Updated list:\", fruits)"
      ]
    },
    {
      "cell_type": "markdown",
      "metadata": {
        "id": "0kRFMg2MIEfW"
      },
      "source": [
        "## 🔐 Tuples\n",
        "`tuple`: Like lists, but committed — they don’t change. Perfect for fixed data."
      ]
    },
    {
      "cell_type": "code",
      "execution_count": 3,
      "metadata": {
        "id": "xxk_GBUVIEfW",
        "outputId": "4b9bbc8e-d054-458b-cbd2-96fb8a710620",
        "colab": {
          "base_uri": "https://localhost:8080/",
          "height": 193
        }
      },
      "outputs": [
        {
          "output_type": "stream",
          "name": "stdout",
          "text": [
            "Coordinates: (34.05, -118.25)\n"
          ]
        },
        {
          "output_type": "error",
          "ename": "TypeError",
          "evalue": "'tuple' object does not support item assignment",
          "traceback": [
            "\u001b[0;31m---------------------------------------------------------------------------\u001b[0m",
            "\u001b[0;31mTypeError\u001b[0m                                 Traceback (most recent call last)",
            "\u001b[0;32m/tmp/ipython-input-2290748006.py\u001b[0m in \u001b[0;36m<cell line: 0>\u001b[0;34m()\u001b[0m\n\u001b[1;32m      3\u001b[0m \u001b[0;34m\u001b[0m\u001b[0m\n\u001b[1;32m      4\u001b[0m \u001b[0;31m# Uncomment this to see Python throw a tantrum\u001b[0m\u001b[0;34m\u001b[0m\u001b[0;34m\u001b[0m\u001b[0m\n\u001b[0;32m----> 5\u001b[0;31m \u001b[0mcoordinates\u001b[0m\u001b[0;34m[\u001b[0m\u001b[0;36m0\u001b[0m\u001b[0;34m]\u001b[0m \u001b[0;34m=\u001b[0m \u001b[0;36m0\u001b[0m\u001b[0;34m\u001b[0m\u001b[0;34m\u001b[0m\u001b[0m\n\u001b[0m",
            "\u001b[0;31mTypeError\u001b[0m: 'tuple' object does not support item assignment"
          ]
        }
      ],
      "source": [
        "coordinates = (34.05, -118.25)  # Latitude, Longitude\n",
        "print(\"Coordinates:\", coordinates)\n",
        "\n",
        "# Uncomment this to see Python throw a tantrum\n",
        "coordinates[0] = 0"
      ]
    },
    {
      "cell_type": "markdown",
      "metadata": {
        "id": "vsvuA2wuIEfW"
      },
      "source": [
        "## 📦 Dictionaries\n",
        "`dict`: Key-value pairs. Like JSON, but with fewer quotation marks and more sarcasm."
      ]
    },
    {
      "cell_type": "code",
      "execution_count": 4,
      "metadata": {
        "id": "t8dyB_9xIEfW",
        "outputId": "8b09e5bd-7838-461f-99fd-c5ef38f977f0",
        "colab": {
          "base_uri": "https://localhost:8080/"
        }
      },
      "outputs": [
        {
          "output_type": "stream",
          "name": "stdout",
          "text": [
            "Student name: Alice\n",
            "GPA using .get(): 3.9\n",
            "Updated dictionary: {'name': 'Alice', 'GPA': 3.9, 'major': 'Data Science', 'minor': 'Philosophy'}\n"
          ]
        }
      ],
      "source": [
        "student = {\n",
        "    \"name\": \"Alice\",\n",
        "    \"GPA\": 3.9,\n",
        "    \"major\": \"Data Science\"\n",
        "}\n",
        "\n",
        "print(\"Student name:\", student[\"name\"])\n",
        "print(\"GPA using .get():\", student.get(\"GPA\"))\n",
        "\n",
        "student[\"minor\"] = \"Philosophy\"\n",
        "print(\"Updated dictionary:\", student)"
      ]
    },
    {
      "cell_type": "markdown",
      "metadata": {
        "id": "5gC1y_v-IEfW"
      },
      "source": [
        "## 🎯 Sets\n",
        "`set`: Unordered, unique values only. Great for removing duplicates or doing cool mathy stuff."
      ]
    },
    {
      "cell_type": "code",
      "execution_count": 5,
      "metadata": {
        "id": "CdB25aUwIEfW",
        "outputId": "1e8356bd-dcc8-4797-d93f-a35f6475cbca",
        "colab": {
          "base_uri": "https://localhost:8080/"
        }
      },
      "outputs": [
        {
          "output_type": "stream",
          "name": "stdout",
          "text": [
            "Courses: {'CS103', 'CS102', 'CS101'}\n",
            "Is CS102 in the set? True\n",
            "Modified courses: {'CS103', 'CS102', 'CS104'}\n"
          ]
        }
      ],
      "source": [
        "courses = {\"CS101\", \"CS102\", \"CS103\", \"CS101\"}  # Duplicate ignored\n",
        "print(\"Courses:\", courses)\n",
        "\n",
        "print(\"Is CS102 in the set?\", \"CS102\" in courses)\n",
        "\n",
        "courses.add(\"CS104\")\n",
        "courses.discard(\"CS101\")\n",
        "print(\"Modified courses:\", courses)"
      ]
    },
    {
      "cell_type": "markdown",
      "metadata": {
        "id": "XAssoankIEfX"
      },
      "source": [
        "---\n",
        "## 🧰 Your Turn\n",
        "\n",
        "1. Create a list of your top 5 favorite foods. Print the last item using a negative index.\n",
        "2. Create a dictionary that maps student names to GPA (be kind). Add a new student.\n",
        "3. Make a tuple of the days of the week. Try to change one. Document what happens.\n",
        "4. Create a `set` of course names. Add a duplicate. Reflect on how sets feel about duplicates.\n",
        "\n",
        "🎯 **Bonus**: Use a list comprehension to build a list of all squares from 1–20."
      ]
    },
    {
      "cell_type": "code",
      "execution_count": null,
      "metadata": {
        "id": "SGgwM23sIEfX"
      },
      "outputs": [],
      "source": [
        "# Your brilliant code goes here!"
      ]
    },
    {
      "cell_type": "code",
      "source": [
        "# list of top 5 favorite foods.\n",
        "foods = [\"beef\", \"chicken\", \"strawberries\", \"ice cream\", \"sweet potatoes\"]\n",
        "print(foods[-1])"
      ],
      "metadata": {
        "id": "5AgG1YOrSWRF",
        "outputId": "ed741f46-c4a5-40ff-ffde-4e525c94d53a",
        "colab": {
          "base_uri": "https://localhost:8080/"
        }
      },
      "execution_count": 6,
      "outputs": [
        {
          "output_type": "stream",
          "name": "stdout",
          "text": [
            "sweet potatoes\n"
          ]
        }
      ]
    },
    {
      "cell_type": "code",
      "source": [
        "# dictionary to map student's name to GPA.\n",
        "students = {\"Ethan\": 3.6,\n",
        "            \"Bob\": 3.2\n",
        "           }\n",
        "print(students)\n",
        "students[\"Tim\"] = 3.8\n",
        "print(students)"
      ],
      "metadata": {
        "id": "nTy8Aa6eSk5Y",
        "outputId": "62b531d7-ca65-4db1-a1fb-f184029fd57f",
        "colab": {
          "base_uri": "https://localhost:8080/"
        }
      },
      "execution_count": 9,
      "outputs": [
        {
          "output_type": "stream",
          "name": "stdout",
          "text": [
            "{'Ethan': 3.6, 'Bob': 3.2}\n",
            "{'Ethan': 3.6, 'Bob': 3.2, 'Tim': 3.8}\n"
          ]
        }
      ]
    },
    {
      "cell_type": "code",
      "source": [
        "# tuple for the days of the week.\n",
        "days = (\"Monday\", \"Tuesday\", \"Wednesday\", \"Thursday\", \"Friday\", \"Saturday\", \"Sunday\")\n",
        "print(days)\n",
        "\n",
        "days[0] = \"Funday\""
      ],
      "metadata": {
        "id": "MJLc3bZ-UQkl",
        "outputId": "af438fe0-aa92-4fee-c111-bd5bc6b6008b",
        "colab": {
          "base_uri": "https://localhost:8080/",
          "height": 213
        }
      },
      "execution_count": 10,
      "outputs": [
        {
          "output_type": "stream",
          "name": "stdout",
          "text": [
            "('Monday', 'Tuesday', 'Wednesday', 'Thursday', 'Friday', 'Saturday', 'Sunday')\n"
          ]
        },
        {
          "output_type": "error",
          "ename": "TypeError",
          "evalue": "'tuple' object does not support item assignment",
          "traceback": [
            "\u001b[0;31m---------------------------------------------------------------------------\u001b[0m",
            "\u001b[0;31mTypeError\u001b[0m                                 Traceback (most recent call last)",
            "\u001b[0;32m/tmp/ipython-input-3289203189.py\u001b[0m in \u001b[0;36m<cell line: 0>\u001b[0;34m()\u001b[0m\n\u001b[1;32m      3\u001b[0m \u001b[0mprint\u001b[0m\u001b[0;34m(\u001b[0m\u001b[0mdays\u001b[0m\u001b[0;34m)\u001b[0m\u001b[0;34m\u001b[0m\u001b[0;34m\u001b[0m\u001b[0m\n\u001b[1;32m      4\u001b[0m \u001b[0;34m\u001b[0m\u001b[0m\n\u001b[0;32m----> 5\u001b[0;31m \u001b[0mdays\u001b[0m\u001b[0;34m[\u001b[0m\u001b[0;36m0\u001b[0m\u001b[0;34m]\u001b[0m \u001b[0;34m=\u001b[0m \u001b[0;34m\"Funday\"\u001b[0m\u001b[0;34m\u001b[0m\u001b[0;34m\u001b[0m\u001b[0m\n\u001b[0m",
            "\u001b[0;31mTypeError\u001b[0m: 'tuple' object does not support item assignment"
          ]
        }
      ]
    },
    {
      "cell_type": "code",
      "source": [
        "# set of course names.\n",
        "courses = {\"CS1\", \"CS2\", \"OOP\", \"Discrete\", \"CS1\"}\n",
        "print(courses)\n",
        "\n",
        "# duplicates are not added."
      ],
      "metadata": {
        "id": "bC8tYncxUeEX",
        "outputId": "5eec81be-de73-4326-93a7-dbe4403ec3fe",
        "colab": {
          "base_uri": "https://localhost:8080/"
        }
      },
      "execution_count": 11,
      "outputs": [
        {
          "output_type": "stream",
          "name": "stdout",
          "text": [
            "{'CS2', 'CS1', 'Discrete', 'OOP'}\n"
          ]
        }
      ]
    },
    {
      "cell_type": "code",
      "source": [
        "# list comprehension for squares from 1-20.\n",
        "\n",
        "squares = [x**2 for x in range(1,21)]\n",
        "print(squares)"
      ],
      "metadata": {
        "id": "Ulzy8hhsU-6d",
        "outputId": "ee11753c-e1d3-4575-c20d-338aa04a9b8e",
        "colab": {
          "base_uri": "https://localhost:8080/"
        }
      },
      "execution_count": 12,
      "outputs": [
        {
          "output_type": "stream",
          "name": "stdout",
          "text": [
            "[1, 4, 9, 16, 25, 36, 49, 64, 81, 100, 121, 144, 169, 196, 225, 256, 289, 324, 361, 400]\n"
          ]
        }
      ]
    },
    {
      "cell_type": "markdown",
      "metadata": {
        "id": "QuXFMVNyIEfX"
      },
      "source": [
        "---\n",
        "## 🧼 Why This Matters\n",
        "\n",
        "Before we start feeding `.csv` files into Pandas like a malfunctioning vending machine, we need to truly *feel* how data is structured. These built-in types help shape, store, and manipulate everything we’ll touch from here on.\n",
        "\n",
        "Next up? Pandas `Series` and `DataFrames`. Buckle up."
      ]
    }
  ],
  "metadata": {
    "kernelspec": {
      "display_name": "Python 3",
      "language": "python",
      "name": "python3"
    },
    "language_info": {
      "name": "python",
      "version": ""
    },
    "colab": {
      "provenance": []
    }
  },
  "nbformat": 4,
  "nbformat_minor": 0
}