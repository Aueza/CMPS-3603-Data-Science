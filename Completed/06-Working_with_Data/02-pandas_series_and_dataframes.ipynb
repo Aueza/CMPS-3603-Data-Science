{
  "cells": [
    {
      "cell_type": "markdown",
      "metadata": {
        "id": "_jlPbTVyncMY"
      },
      "source": [
        "# 🐼 Notebook 02: Pandas Series and DataFrames\n",
        "\n",
        "Congratulations. You've graduated from lists and dictionaries — it’s time to wield a more powerful tool: **Pandas**.\n",
        "\n",
        "This notebook introduces you to the two most essential data structures in data science:\n",
        "\n",
        "- `Series`: a one-dimensional labeled array (like a dictionary and list had a well-organized child)\n",
        "- `DataFrame`: a two-dimensional table with labeled axes (basically Excel’s smarter cousin)\n",
        "\n",
        "---"
      ]
    },
    {
      "cell_type": "code",
      "execution_count": 1,
      "metadata": {
        "id": "wMMZN_1AncMZ"
      },
      "outputs": [],
      "source": [
        "import pandas as pd"
      ]
    },
    {
      "cell_type": "markdown",
      "metadata": {
        "id": "u6K0YVI5ncMZ"
      },
      "source": [
        "## 🔢 Series from a List\n",
        "Simple but powerful — labels give it superpowers."
      ]
    },
    {
      "cell_type": "code",
      "execution_count": 2,
      "metadata": {
        "id": "Esysr7aVncMZ",
        "outputId": "f7c14298-8cce-46d8-b4f4-9cbb04407d21",
        "colab": {
          "base_uri": "https://localhost:8080/"
        }
      },
      "outputs": [
        {
          "output_type": "stream",
          "name": "stdout",
          "text": [
            "Grocery Prices:\n",
            "Apple    2.99\n",
            "Milk     4.49\n",
            "Bread    1.99\n",
            "dtype: float64\n",
            "\n",
            "Price of Milk: 4.49\n"
          ]
        }
      ],
      "source": [
        "# A Series from a list — just like a list, but fancier and labeled\n",
        "prices = pd.Series([2.99, 4.49, 1.99], index=[\"Apple\", \"Milk\", \"Bread\"])\n",
        "print(\"Grocery Prices:\")\n",
        "print(prices)\n",
        "\n",
        "# Accessing elements like a dictionary\n",
        "print(\"\\nPrice of Milk:\", prices[\"Milk\"])"
      ]
    },
    {
      "cell_type": "markdown",
      "metadata": {
        "id": "wwVfDaZ6ncMZ"
      },
      "source": [
        "## 🗺️ Series from a Dictionary\n",
        "Keys become the index — pretty intuitive, right?"
      ]
    },
    {
      "cell_type": "code",
      "execution_count": 3,
      "metadata": {
        "id": "zL50hONZncMZ",
        "outputId": "73e54648-e793-404e-afe0-934a54bb89f2",
        "colab": {
          "base_uri": "https://localhost:8080/"
        }
      },
      "outputs": [
        {
          "output_type": "stream",
          "name": "stdout",
          "text": [
            "State Populations:\n",
            "Texas         29000000\n",
            "California    39000000\n",
            "New York      19000000\n",
            "dtype: int64\n",
            "\n",
            "Population in millions:\n",
            "Texas         29.0\n",
            "California    39.0\n",
            "New York      19.0\n",
            "dtype: float64\n"
          ]
        }
      ],
      "source": [
        "population = {\n",
        "    \"Texas\": 29_000_000,\n",
        "    \"California\": 39_000_000,\n",
        "    \"New York\": 19_000_000\n",
        "}\n",
        "\n",
        "state_pop = pd.Series(population)\n",
        "print(\"State Populations:\")\n",
        "print(state_pop)\n",
        "\n",
        "# Series support math!\n",
        "print(\"\\nPopulation in millions:\")\n",
        "print(state_pop / 1_000_000)"
      ]
    },
    {
      "cell_type": "markdown",
      "metadata": {
        "id": "vBjchq0zncMZ"
      },
      "source": [
        "## 📋 Creating a DataFrame\n",
        "Like a spreadsheet, but you control the universe."
      ]
    },
    {
      "cell_type": "code",
      "execution_count": 4,
      "metadata": {
        "id": "yxm4iiQ2ncMZ",
        "outputId": "e2984ed5-ecf3-45a3-cda1-2f74f17c8833",
        "colab": {
          "base_uri": "https://localhost:8080/"
        }
      },
      "outputs": [
        {
          "output_type": "stream",
          "name": "stdout",
          "text": [
            "Student DataFrame:\n",
            "      Name  GPA  Credits  Graduating\n",
            "0    Alice  3.9       90       False\n",
            "1      Bob  2.7       45       False\n",
            "2  Charlie  3.4       60       False\n",
            "3    Diana  3.8      120        True\n"
          ]
        }
      ],
      "source": [
        "# Creating a DataFrame — the bread and butter of Pandas\n",
        "data = {\n",
        "    \"Name\": [\"Alice\", \"Bob\", \"Charlie\", \"Diana\"],\n",
        "    \"GPA\": [3.9, 2.7, 3.4, 3.8],\n",
        "    \"Credits\": [90, 45, 60, 120],\n",
        "    \"Graduating\": [False, False, False, True]\n",
        "}\n",
        "\n",
        "students = pd.DataFrame(data)\n",
        "print(\"Student DataFrame:\")\n",
        "print(students)"
      ]
    },
    {
      "cell_type": "markdown",
      "metadata": {
        "id": "LlytXZqvncMa"
      },
      "source": [
        "## 🎯 Column Access + Row Access"
      ]
    },
    {
      "cell_type": "code",
      "execution_count": 5,
      "metadata": {
        "id": "AcBIJOHjncMa",
        "outputId": "1737eaf4-7096-4946-c955-a36a19b510c4",
        "colab": {
          "base_uri": "https://localhost:8080/"
        }
      },
      "outputs": [
        {
          "output_type": "stream",
          "name": "stdout",
          "text": [
            "\n",
            "GPA column:\n",
            "0    3.9\n",
            "1    2.7\n",
            "2    3.4\n",
            "3    3.8\n",
            "Name: GPA, dtype: float64\n",
            "\n",
            "Charlie's record:\n",
            "Name          Charlie\n",
            "GPA               3.4\n",
            "Credits            60\n",
            "Graduating      False\n",
            "Name: 2, dtype: object\n"
          ]
        }
      ],
      "source": [
        "# Access a column\n",
        "print(\"\\nGPA column:\")\n",
        "print(students[\"GPA\"])\n",
        "\n",
        "# Access a row\n",
        "print(\"\\nCharlie's record:\")\n",
        "print(students.loc[2])"
      ]
    },
    {
      "cell_type": "markdown",
      "metadata": {
        "id": "k3XqOROOncMa"
      },
      "source": [
        "## 🧪 Inspect the DataFrame"
      ]
    },
    {
      "cell_type": "code",
      "execution_count": 6,
      "metadata": {
        "id": "Z07maRPLncMa",
        "outputId": "8281b5be-b5b5-4b0b-e057-2a7944cc02ad",
        "colab": {
          "base_uri": "https://localhost:8080/"
        }
      },
      "outputs": [
        {
          "output_type": "stream",
          "name": "stdout",
          "text": [
            "\n",
            "Shape: (4, 4)\n",
            "\n",
            "Columns: ['Name', 'GPA', 'Credits', 'Graduating']\n",
            "\n",
            "DataFrame Info:\n",
            "<class 'pandas.core.frame.DataFrame'>\n",
            "RangeIndex: 4 entries, 0 to 3\n",
            "Data columns (total 4 columns):\n",
            " #   Column      Non-Null Count  Dtype  \n",
            "---  ------      --------------  -----  \n",
            " 0   Name        4 non-null      object \n",
            " 1   GPA         4 non-null      float64\n",
            " 2   Credits     4 non-null      int64  \n",
            " 3   Graduating  4 non-null      bool   \n",
            "dtypes: bool(1), float64(1), int64(1), object(1)\n",
            "memory usage: 232.0+ bytes\n",
            "None\n",
            "\n",
            "DataFrame Summary Stats:\n",
            "            GPA     Credits\n",
            "count  4.000000    4.000000\n",
            "mean   3.450000   78.750000\n",
            "std    0.544671   33.260337\n",
            "min    2.700000   45.000000\n",
            "25%    3.225000   56.250000\n",
            "50%    3.600000   75.000000\n",
            "75%    3.825000   97.500000\n",
            "max    3.900000  120.000000\n"
          ]
        }
      ],
      "source": [
        "# Shape and structure\n",
        "print(\"\\nShape:\", students.shape)\n",
        "print(\"\\nColumns:\", students.columns.tolist())\n",
        "\n",
        "# Info dump\n",
        "print(\"\\nDataFrame Info:\")\n",
        "print(students.info())\n",
        "\n",
        "# Stats summary\n",
        "print(\"\\nDataFrame Summary Stats:\")\n",
        "print(students.describe())"
      ]
    },
    {
      "cell_type": "markdown",
      "metadata": {
        "id": "hbLVlbMDncMa"
      },
      "source": [
        "## 🧼 Rename a Column"
      ]
    },
    {
      "cell_type": "code",
      "execution_count": 7,
      "metadata": {
        "id": "yD7HqUUoncMa",
        "outputId": "7e681cae-669f-4975-e39d-3e9ec213aa2d",
        "colab": {
          "base_uri": "https://localhost:8080/"
        }
      },
      "outputs": [
        {
          "output_type": "stream",
          "name": "stdout",
          "text": [
            "\n",
            "Renamed column:\n",
            "      Name  GPA  Credits  Is_Graduating\n",
            "0    Alice  3.9       90          False\n",
            "1      Bob  2.7       45          False\n",
            "2  Charlie  3.4       60          False\n",
            "3    Diana  3.8      120           True\n"
          ]
        }
      ],
      "source": [
        "students.rename(columns={\"Graduating\": \"Is_Graduating\"}, inplace=True)\n",
        "print(\"\\nRenamed column:\")\n",
        "print(students.head())"
      ]
    },
    {
      "cell_type": "markdown",
      "metadata": {
        "id": "bbby7yt5ncMa"
      },
      "source": [
        "---\n",
        "## 🔍 Your Turn\n",
        "\n",
        "1. Create a `Series` from a dictionary of state abbreviations to population (use fake or real data).\n",
        "2. Create a `DataFrame` for 5 students with columns: `Name`, `GPA`, `Credits`, `Graduating` (True/False).\n",
        "3. Try accessing a row using `.loc[]` and a column using bracket notation.\n",
        "4. Print the `.shape`, `.columns`, and `.info()` of your DataFrame.\n",
        "\n",
        "🎯 Bonus: Rename a column just to mess with the future grader."
      ]
    },
    {
      "cell_type": "code",
      "execution_count": null,
      "metadata": {
        "id": "YPmtRvG4ncMa"
      },
      "outputs": [],
      "source": [
        "# Your data science destiny begins here."
      ]
    },
    {
      "cell_type": "code",
      "source": [
        "# creating a series from a dictionary containing state abbreveations to population.\n",
        "states = {\n",
        "    \"Texas\": 25_000_000,\n",
        "    \"California\": 37_000_000,\n",
        "    \"Florida\": 17_000_000,\n",
        "    \"Wisconsin\": 10_000_000\n",
        "}\n",
        "\n",
        "stateSeries = pd.Series(states)\n",
        "print(\"State Populations:\")\n",
        "print(stateSeries)\n",
        "\n",
        "print(\"\\nState Populations (In Millions):\")\n",
        "print(stateSeries / 1_000_000)"
      ],
      "metadata": {
        "collapsed": true,
        "id": "KcS1lrtypgg8",
        "outputId": "1a123da2-ae89-405f-e24c-ab700a1aace5",
        "colab": {
          "base_uri": "https://localhost:8080/"
        }
      },
      "execution_count": 13,
      "outputs": [
        {
          "output_type": "stream",
          "name": "stdout",
          "text": [
            "State Populations:\n",
            "Texas         25000000\n",
            "California    37000000\n",
            "Florida       17000000\n",
            "Wisconsin     10000000\n",
            "dtype: int64\n",
            "\n",
            "State Populations (In Millions):\n",
            "Texas         25.0\n",
            "California    37.0\n",
            "Florida       17.0\n",
            "Wisconsin     10.0\n",
            "dtype: float64\n"
          ]
        }
      ]
    },
    {
      "cell_type": "code",
      "source": [
        "# creating a df for 5 students with columns:\n",
        "# Name, GPA, Credits, Graduating (True/False).\n",
        "\n",
        "data = {\n",
        "    \"Name\": ['Ethan', 'Isaiah', 'RJ', 'Phoenix', 'Carson'],\n",
        "    \"GPA\": [3.6, 3.2, 2.8, 3.0, 3.6],\n",
        "    \"Credits\": [112, 100, 50, 95, 97],\n",
        "    \"Graduating\": [True, False, False, False, False]\n",
        "}\n",
        "\n",
        "studentsDf = pd.DataFrame(data)\n",
        "print(\"Students Info:\")\n",
        "print(studentsDf)\n",
        "\n",
        "print(\"\\nPhoenix's Info:\")\n",
        "print(studentsDf.loc[3])"
      ],
      "metadata": {
        "id": "yPPiAVr8qPcT",
        "outputId": "0e5613cd-d5d0-4d23-e475-1bd0fb5bf10d",
        "colab": {
          "base_uri": "https://localhost:8080/"
        }
      },
      "execution_count": 15,
      "outputs": [
        {
          "output_type": "stream",
          "name": "stdout",
          "text": [
            "Students Info:\n",
            "      Name  GPA  Credits  Graduating\n",
            "0    Ethan  3.6      112        True\n",
            "1   Isaiah  3.2      100       False\n",
            "2       RJ  2.8       50       False\n",
            "3  Phoenix  3.0       95       False\n",
            "4   Carson  3.6       97       False\n",
            "\n",
            "Phoenix's Info:\n",
            "Name          Phoenix\n",
            "GPA               3.0\n",
            "Credits            95\n",
            "Graduating      False\n",
            "Name: 3, dtype: object\n"
          ]
        }
      ]
    },
    {
      "cell_type": "code",
      "source": [
        "# dataframe info:\n",
        "print(f\"\\ndataframe shape: {studentsDf.shape}\")\n",
        "print(f\"\\ndataframe columns: {studentsDf.columns.tolist()}\")\n",
        "\n",
        "print(f\"\\ndataframe info: {studentsDf.info()}\")\n"
      ],
      "metadata": {
        "id": "r89pR-HKrLaz",
        "outputId": "d8be50a8-1797-461b-ccf5-d8ae64f1fe9d",
        "colab": {
          "base_uri": "https://localhost:8080/"
        }
      },
      "execution_count": 25,
      "outputs": [
        {
          "output_type": "stream",
          "name": "stdout",
          "text": [
            "\n",
            "dataframe shape: (5, 4)\n",
            "\n",
            "dataframe columns: ['Name', 'GPA', 'Credits', 'Graduating']\n",
            "<class 'pandas.core.frame.DataFrame'>\n",
            "RangeIndex: 5 entries, 0 to 4\n",
            "Data columns (total 4 columns):\n",
            " #   Column      Non-Null Count  Dtype  \n",
            "---  ------      --------------  -----  \n",
            " 0   Name        5 non-null      object \n",
            " 1   GPA         5 non-null      float64\n",
            " 2   Credits     5 non-null      int64  \n",
            " 3   Graduating  5 non-null      bool   \n",
            "dtypes: bool(1), float64(1), int64(1), object(1)\n",
            "memory usage: 257.0+ bytes\n",
            "\n",
            "dataframe info: None\n"
          ]
        }
      ]
    },
    {
      "cell_type": "code",
      "source": [
        "# renaming a column.\n",
        "studentsDf.rename(columns={'Graduating': 'IsGraduating'}, inplace=True)\n",
        "print(studentsDf.head())\n"
      ],
      "metadata": {
        "id": "jebdLMotsCzf",
        "outputId": "d3be9b31-7cc0-4b6b-eae9-479afa475035",
        "colab": {
          "base_uri": "https://localhost:8080/"
        }
      },
      "execution_count": 27,
      "outputs": [
        {
          "output_type": "stream",
          "name": "stdout",
          "text": [
            "      Name  GPA  Credits  IsGraduating\n",
            "0    Ethan  3.6      112          True\n",
            "1   Isaiah  3.2      100         False\n",
            "2       RJ  2.8       50         False\n",
            "3  Phoenix  3.0       95         False\n",
            "4   Carson  3.6       97         False\n"
          ]
        }
      ]
    },
    {
      "cell_type": "markdown",
      "metadata": {
        "id": "87eiuCbUncMa"
      },
      "source": [
        "---\n",
        "## 📎 Side Notes\n",
        "- A `Series` is like a single column of a spreadsheet.\n",
        "- A `DataFrame` is like the full spreadsheet.\n",
        "- Rows and columns can both have labels (called the **index** and **columns**).\n",
        "\n",
        "Next stop: loading data from the real world. Brace yourself for CSVs."
      ]
    }
  ],
  "metadata": {
    "kernelspec": {
      "display_name": "Python 3",
      "language": "python",
      "name": "python3"
    },
    "language_info": {
      "name": "python",
      "version": ""
    },
    "colab": {
      "provenance": []
    }
  },
  "nbformat": 4,
  "nbformat_minor": 0
}