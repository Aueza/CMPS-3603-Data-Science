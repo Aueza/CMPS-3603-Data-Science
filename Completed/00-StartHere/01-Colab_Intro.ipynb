{
  "cells": [
    {
      "cell_type": "markdown",
      "metadata": {
        "id": "view-in-github",
        "colab_type": "text"
      },
      "source": [
        "<a href=\"https://colab.research.google.com/github/Aueza/CMPS-3603-Data-Science/blob/main/Completed/00-StartHere/01-Colab_Intro.ipynb\" target=\"_parent\"><img src=\"https://colab.research.google.com/assets/colab-badge.svg\" alt=\"Open In Colab\"/></a>"
      ]
    },
    {
      "cell_type": "markdown",
      "id": "7f412148",
      "metadata": {
        "id": "7f412148"
      },
      "source": [
        "# 📘 01 - Colab Intro\n",
        "\n",
        "Welcome to your first notebook in Google Colab!"
      ]
    },
    {
      "cell_type": "markdown",
      "id": "216c53ab",
      "metadata": {
        "id": "216c53ab"
      },
      "source": [
        "## ✅ Learning Goals\n",
        "- Run cells in a notebook\n",
        "- Edit Markdown and code\n",
        "- Save a copy to your own Drive"
      ]
    },
    {
      "cell_type": "code",
      "execution_count": 1,
      "id": "f7ca3562",
      "metadata": {
        "id": "f7ca3562",
        "outputId": "a4b338a4-9a56-4ab4-a8d1-d3c1304d50ef",
        "colab": {
          "base_uri": "https://localhost:8080/"
        }
      },
      "outputs": [
        {
          "output_type": "stream",
          "name": "stdout",
          "text": [
            "Hello, Data Science World!\n"
          ]
        }
      ],
      "source": [
        "# 👋 Try running this cell!\n",
        "print('Hello, Data Science World!')"
      ]
    },
    {
      "cell_type": "markdown",
      "id": "31151db2",
      "metadata": {
        "id": "31151db2"
      },
      "source": [
        "## ✏️ Your Turn\n",
        "Modify the code below to print your name."
      ]
    },
    {
      "cell_type": "code",
      "execution_count": 2,
      "id": "aaf79c47",
      "metadata": {
        "id": "aaf79c47",
        "outputId": "6d07dcae-95d6-40f8-d74e-49dc041db01a",
        "colab": {
          "base_uri": "https://localhost:8080/"
        }
      },
      "outputs": [
        {
          "output_type": "stream",
          "name": "stdout",
          "text": [
            "Ethan\n"
          ]
        }
      ],
      "source": [
        "print('Ethan')"
      ]
    },
    {
      "cell_type": "markdown",
      "id": "502b08e8",
      "metadata": {
        "id": "502b08e8"
      },
      "source": [
        "## 💾 Save a Copy\n",
        "- Go to **File > Save a copy in Colabs**.\n",
        "- Make sure it changed on your github repo.\n",
        "\n",
        "Move it to your `completed` folder."
      ]
    }
  ],
  "metadata": {
    "colab": {
      "provenance": [],
      "include_colab_link": true
    },
    "language_info": {
      "name": "python"
    },
    "kernelspec": {
      "name": "python3",
      "display_name": "Python 3"
    }
  },
  "nbformat": 4,
  "nbformat_minor": 5
}