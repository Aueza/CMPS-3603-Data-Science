{
  "cells": [
    {
      "cell_type": "markdown",
      "id": "c224876d",
      "metadata": {
        "id": "c224876d"
      },
      "source": [
        "# 📘 01 - Scalar Types\n",
        "\n",
        "Review and practice working with Python's basic scalar data types."
      ]
    },
    {
      "cell_type": "markdown",
      "id": "39c1942a",
      "metadata": {
        "id": "39c1942a"
      },
      "source": [
        "## ✅ Learning Goals\n",
        "- Recognize scalar types (`int`, `float`, `str`, `bool`)\n",
        "- Use the `type()` function to identify types\n",
        "- Use variables and assignment"
      ]
    },
    {
      "cell_type": "code",
      "execution_count": 2,
      "id": "0cf15b63",
      "metadata": {
        "id": "0cf15b63"
      },
      "outputs": [],
      "source": [
        "# 🔧 Define some variables\n",
        "num = 42\n",
        "pi = 3.14159\n",
        "name = 'Python'\n",
        "is_cool = True"
      ]
    },
    {
      "cell_type": "code",
      "execution_count": 3,
      "id": "7c8e8452",
      "metadata": {
        "id": "7c8e8452",
        "outputId": "e5239bbb-e248-42f2-f4e3-db23cb7b99a9",
        "colab": {
          "base_uri": "https://localhost:8080/"
        }
      },
      "outputs": [
        {
          "output_type": "stream",
          "name": "stdout",
          "text": [
            "<class 'int'>\n",
            "<class 'float'>\n",
            "<class 'str'>\n",
            "<class 'bool'>\n"
          ]
        }
      ],
      "source": [
        "# 🔍 Check their types\n",
        "print(type(num))\n",
        "print(type(pi))\n",
        "print(type(name))\n",
        "print(type(is_cool))"
      ]
    },
    {
      "cell_type": "markdown",
      "id": "2c345a8b",
      "metadata": {
        "id": "2c345a8b"
      },
      "source": [
        "### ✏️ Your Turn\n",
        "Create your own variables of each type and print them."
      ]
    },
    {
      "cell_type": "code",
      "execution_count": 4,
      "id": "038b4f44",
      "metadata": {
        "id": "038b4f44",
        "outputId": "bffb4c8f-ee04-4cba-8c58-d07599fc00ad",
        "colab": {
          "base_uri": "https://localhost:8080/"
        }
      },
      "outputs": [
        {
          "output_type": "stream",
          "name": "stdout",
          "text": [
            "<class 'int'>\n",
            "<class 'float'>\n",
            "<class 'str'>\n",
            "<class 'bool'>\n",
            "<class 'NoneType'>\n"
          ]
        }
      ],
      "source": [
        "# Your code here\n",
        "num = 18\n",
        "anotherNum = 12124.124\n",
        "c = 'c'\n",
        "coolest = True\n",
        "notSure = None\n",
        "\n",
        "print(type(num))\n",
        "print(type(anotherNum))\n",
        "print(type(c))\n",
        "print(type(coolest))\n",
        "print(type(notSure))"
      ]
    },
    {
      "cell_type": "markdown",
      "id": "f02be606",
      "metadata": {
        "id": "f02be606"
      },
      "source": [
        "## ⚖️ Comparison Practice\n",
        "Use comparison operators to check values."
      ]
    },
    {
      "cell_type": "code",
      "execution_count": 5,
      "id": "9bf84dc7",
      "metadata": {
        "id": "9bf84dc7",
        "outputId": "434547f2-fa2e-4864-85aa-b5cda0ca4631",
        "colab": {
          "base_uri": "https://localhost:8080/"
        }
      },
      "outputs": [
        {
          "output_type": "stream",
          "name": "stdout",
          "text": [
            "True\n",
            "False\n",
            "True\n"
          ]
        }
      ],
      "source": [
        "x = 10\n",
        "y = 5\n",
        "print(x > y)\n",
        "print(x == y)\n",
        "print(x != y)"
      ]
    },
    {
      "cell_type": "markdown",
      "id": "789b6f3d",
      "metadata": {
        "id": "789b6f3d"
      },
      "source": [
        "## 🧠 Quick Check\n",
        "What will the following print?\n",
        "```python\n",
        "print(3.0 == 3)\n",
        "```"
      ]
    },
    {
      "cell_type": "code",
      "source": [
        "print(3.0 == 3)"
      ],
      "metadata": {
        "id": "iwq31uaBWNqM",
        "outputId": "3a4d1b0b-6f99-4a94-f2fb-dba5ec404c7b",
        "colab": {
          "base_uri": "https://localhost:8080/"
        }
      },
      "id": "iwq31uaBWNqM",
      "execution_count": 6,
      "outputs": [
        {
          "output_type": "stream",
          "name": "stdout",
          "text": [
            "True\n"
          ]
        }
      ]
    },
    {
      "cell_type": "code",
      "source": [],
      "metadata": {
        "id": "rBAoJKcIWO72"
      },
      "id": "rBAoJKcIWO72",
      "execution_count": null,
      "outputs": []
    }
  ],
  "metadata": {
    "colab": {
      "provenance": []
    },
    "language_info": {
      "name": "python"
    },
    "kernelspec": {
      "name": "python3",
      "display_name": "Python 3"
    }
  },
  "nbformat": 4,
  "nbformat_minor": 5
}