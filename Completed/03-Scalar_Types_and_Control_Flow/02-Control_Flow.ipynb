{
  "cells": [
    {
      "cell_type": "markdown",
      "id": "d691fc24",
      "metadata": {
        "id": "d691fc24"
      },
      "source": [
        "# 📘 02 - Control Flow\n",
        "\n",
        "Learn how to use conditional logic in Python."
      ]
    },
    {
      "cell_type": "markdown",
      "id": "07e43ba3",
      "metadata": {
        "id": "07e43ba3"
      },
      "source": [
        "## ✅ Learning Goals\n",
        "- Write `if`, `elif`, `else` statements\n",
        "- Understand truthy/falsy values\n",
        "- Combine conditions using `and`, `or`, `not`"
      ]
    },
    {
      "cell_type": "code",
      "execution_count": 2,
      "id": "3c8cac6d",
      "metadata": {
        "id": "3c8cac6d",
        "outputId": "0a9a245a-d7e9-431a-b81d-28a746bdc16a",
        "colab": {
          "base_uri": "https://localhost:8080/"
        }
      },
      "outputs": [
        {
          "output_type": "stream",
          "name": "stdout",
          "text": [
            "You are an adult.\n"
          ]
        }
      ],
      "source": [
        "# 🔧 Basic example\n",
        "age = 21\n",
        "if age >= 18:\n",
        "    print('You are an adult.')\n",
        "else:\n",
        "    print('You are a minor.')"
      ]
    },
    {
      "cell_type": "markdown",
      "id": "ae0d2437",
      "metadata": {
        "id": "ae0d2437"
      },
      "source": [
        "## 🔀 Multiple Branches"
      ]
    },
    {
      "cell_type": "code",
      "execution_count": 9,
      "id": "e2527038",
      "metadata": {
        "id": "e2527038",
        "outputId": "66264471-3525-4d2a-b5bf-51f55f1b35e8",
        "colab": {
          "base_uri": "https://localhost:8080/"
        }
      },
      "outputs": [
        {
          "output_type": "stream",
          "name": "stdout",
          "text": [
            "Too hot!\n"
          ]
        }
      ],
      "source": [
        "temp = 104\n",
        "if temp > 90:\n",
        "    print('Too hot!')\n",
        "elif temp < 50:\n",
        "    print('Too cold!')\n",
        "else:\n",
        "    print('Just right.')"
      ]
    },
    {
      "cell_type": "markdown",
      "id": "b2aa7088",
      "metadata": {
        "id": "b2aa7088"
      },
      "source": [
        "### ✏️ Your Turn\n",
        "Use `input()` to ask a user their grade and print a message based on value."
      ]
    },
    {
      "cell_type": "code",
      "execution_count": 11,
      "id": "f096a974",
      "metadata": {
        "id": "f096a974",
        "outputId": "64ba8063-196b-4263-cbf5-1bf07ecc1240",
        "colab": {
          "base_uri": "https://localhost:8080/"
        }
      },
      "outputs": [
        {
          "output_type": "stream",
          "name": "stdout",
          "text": [
            "Enter the grade you received: 30\n",
            "F\n"
          ]
        }
      ],
      "source": [
        "# Example:\n",
        "# grade = int(input('Enter your score: '))\n",
        "# if grade >= 90:\n",
        "#     print('A')\n",
        "# elif grade >= 80:\n",
        "#     print('B')\n",
        "# ...\n",
        "\n",
        "\n",
        "grade = int(input(\"Enter the grade you received: \"))\n",
        "if grade >= 90:\n",
        "    print(\"A\")\n",
        "elif grade >= 80:\n",
        "    print(\"B\")\n",
        "elif grade >= 70:\n",
        "    print(\"C\")\n",
        "elif grade >= 60:\n",
        "    print(\"D\")\n",
        "else:\n",
        "    print(\"F\")\n"
      ]
    }
  ],
  "metadata": {
    "colab": {
      "provenance": []
    },
    "language_info": {
      "name": "python"
    },
    "kernelspec": {
      "name": "python3",
      "display_name": "Python 3"
    }
  },
  "nbformat": 4,
  "nbformat_minor": 5
}