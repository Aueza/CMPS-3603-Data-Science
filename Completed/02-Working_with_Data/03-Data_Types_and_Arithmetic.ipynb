{
  "cells": [
    {
      "cell_type": "markdown",
      "id": "4b15b08b",
      "metadata": {
        "id": "4b15b08b"
      },
      "source": [
        "# 📘 03 - Data Types and Arithmetic\n",
        "\n",
        "Explore Python basics like variables, data types, and arithmetic operations."
      ]
    },
    {
      "cell_type": "markdown",
      "id": "fe930277",
      "metadata": {
        "id": "fe930277"
      },
      "source": [
        "## ✅ Learning Goals\n",
        "- Understand Python data types\n",
        "- Use variables and print statements\n",
        "- Perform basic arithmetic"
      ]
    },
    {
      "cell_type": "code",
      "execution_count": 1,
      "id": "8e873f5b",
      "metadata": {
        "id": "8e873f5b",
        "outputId": "4ab5f1eb-f66e-4773-fe9d-15182c4a93a9",
        "colab": {
          "base_uri": "https://localhost:8080/"
        }
      },
      "outputs": [
        {
          "output_type": "stream",
          "name": "stdout",
          "text": [
            "<class 'int'> <class 'float'> <class 'str'>\n"
          ]
        }
      ],
      "source": [
        "# 🧠 Variables and Types\n",
        "x = 10\n",
        "y = 3.5\n",
        "z = 'hello'\n",
        "print(type(x), type(y), type(z))"
      ]
    },
    {
      "cell_type": "code",
      "execution_count": 2,
      "id": "e90e2be4",
      "metadata": {
        "id": "e90e2be4",
        "outputId": "1aae1dba-1289-47a4-a136-005b6a3ea9fa",
        "colab": {
          "base_uri": "https://localhost:8080/"
        }
      },
      "outputs": [
        {
          "output_type": "stream",
          "name": "stdout",
          "text": [
            "Add: 13.5\n",
            "Divide: 2.857142857142857\n",
            "Floor Divide: 2.0\n",
            "Exponent: 100\n"
          ]
        }
      ],
      "source": [
        "# ➕ Arithmetic Operations\n",
        "print('Add:', x + y)\n",
        "print('Divide:', x / y)\n",
        "print('Floor Divide:', x // y)\n",
        "print('Exponent:', x ** 2)"
      ]
    },
    {
      "cell_type": "markdown",
      "id": "7e233e07",
      "metadata": {
        "id": "7e233e07"
      },
      "source": [
        "## ✏️ Try It Yourself\n",
        "- Create your own variables\n",
        "- Try combining numbers and strings\n",
        "- Use `input()` to interact"
      ]
    },
    {
      "cell_type": "code",
      "execution_count": 4,
      "id": "42b3fc61",
      "metadata": {
        "id": "42b3fc61",
        "outputId": "de2094f2-ed0f-4844-b5b5-eb455dc21d5e",
        "colab": {
          "base_uri": "https://localhost:8080/"
        }
      },
      "outputs": [
        {
          "output_type": "stream",
          "name": "stdout",
          "text": [
            "What is your name? Ethan\n",
            "Welcome, Ethan\n",
            "How old are you?21\n",
            "You are 21 years old?\n"
          ]
        }
      ],
      "source": [
        "# Your code here\n",
        "name = input('What is your name? ')\n",
        "print('Welcome,', name)\n",
        "\n",
        "age = input(\"How old are you? \")\n",
        "print(f\"You are {age} years old?\")"
      ]
    },
    {
      "cell_type": "markdown",
      "id": "069d6eba",
      "metadata": {
        "id": "069d6eba"
      },
      "source": [
        "## 📤 Submit\n",
        "Make sure your name is at the top in a Markdown cell.\n",
        "Submit via D2L or Colab link."
      ]
    },
    {
      "cell_type": "code",
      "source": [],
      "metadata": {
        "id": "comlQuy-US9i"
      },
      "id": "comlQuy-US9i",
      "execution_count": null,
      "outputs": []
    }
  ],
  "metadata": {
    "colab": {
      "provenance": []
    },
    "language_info": {
      "name": "python"
    },
    "kernelspec": {
      "name": "python3",
      "display_name": "Python 3"
    }
  },
  "nbformat": 4,
  "nbformat_minor": 5
}