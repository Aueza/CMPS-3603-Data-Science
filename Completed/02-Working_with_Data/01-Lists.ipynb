{
  "cells": [
    {
      "cell_type": "markdown",
      "id": "47f2636f",
      "metadata": {
        "id": "47f2636f"
      },
      "source": [
        "# 📘 01 - Python Lists\n",
        "\n",
        "Explore how to use lists to store and manipulate data."
      ]
    },
    {
      "cell_type": "markdown",
      "id": "d5e389b6",
      "metadata": {
        "id": "d5e389b6"
      },
      "source": [
        "## ✅ Learning Goals\n",
        "- Create and modify Python lists\n",
        "- Access elements using indexing\n",
        "- Use list methods like `append()`, `remove()`, and `sort()`"
      ]
    },
    {
      "cell_type": "code",
      "execution_count": 1,
      "id": "9244ef55",
      "metadata": {
        "id": "9244ef55",
        "outputId": "f6c2c961-46bb-4fe7-daaf-2469478297e1",
        "colab": {
          "base_uri": "https://localhost:8080/"
        }
      },
      "outputs": [
        {
          "output_type": "stream",
          "name": "stdout",
          "text": [
            "[10, 20, 30, 40, 50]\n"
          ]
        }
      ],
      "source": [
        "# 🔧 Create a List\n",
        "my_list = [10, 20, 30, 40, 50]\n",
        "print(my_list)"
      ]
    },
    {
      "cell_type": "code",
      "execution_count": 2,
      "id": "e767a048",
      "metadata": {
        "id": "e767a048",
        "outputId": "545284e6-7de0-4619-8601-6eb432044948",
        "colab": {
          "base_uri": "https://localhost:8080/"
        }
      },
      "outputs": [
        {
          "output_type": "stream",
          "name": "stdout",
          "text": [
            "First item: 10\n",
            "Last item: 50\n"
          ]
        }
      ],
      "source": [
        "# 🎯 Access Elements\n",
        "print('First item:', my_list[0])\n",
        "print('Last item:', my_list[-1])"
      ]
    },
    {
      "cell_type": "code",
      "execution_count": 3,
      "id": "4d9b40bd",
      "metadata": {
        "id": "4d9b40bd",
        "outputId": "6283d151-8c67-4529-80e6-842479b16b8c",
        "colab": {
          "base_uri": "https://localhost:8080/"
        }
      },
      "outputs": [
        {
          "output_type": "stream",
          "name": "stdout",
          "text": [
            "[10, 20, 40, 50, 60]\n"
          ]
        }
      ],
      "source": [
        "# ➕ Modify List\n",
        "my_list.append(60)\n",
        "my_list.remove(30)\n",
        "print(my_list)"
      ]
    },
    {
      "cell_type": "code",
      "execution_count": 4,
      "id": "55eff36d",
      "metadata": {
        "id": "55eff36d",
        "outputId": "c39617c4-9c02-40af-bb9b-623ede9bce26",
        "colab": {
          "base_uri": "https://localhost:8080/"
        }
      },
      "outputs": [
        {
          "output_type": "stream",
          "name": "stdout",
          "text": [
            "10\n",
            "20\n",
            "40\n",
            "50\n",
            "60\n"
          ]
        }
      ],
      "source": [
        "# 🔁 Loop Through List\n",
        "for item in my_list:\n",
        "    print(item)"
      ]
    },
    {
      "cell_type": "markdown",
      "id": "efa1162a",
      "metadata": {
        "id": "efa1162a"
      },
      "source": [
        "## ✏️ Your Turn\n",
        "Create your own list of 5 favorite movies and sort them alphabetically."
      ]
    },
    {
      "cell_type": "code",
      "source": [
        "myMovieList = [\"Goodwill Hunting\", \"Top Gun\", \"Cars\", \"Star Wars: Revenge of the Sith\", \"Forrest Gump\"]\n",
        "myMovieList.sort()\n",
        "print(myMovieList)"
      ],
      "metadata": {
        "id": "Gy2G0Z3vROwR",
        "outputId": "770398c9-ad8f-4f5a-b3ea-b0b837c968c9",
        "colab": {
          "base_uri": "https://localhost:8080/"
        }
      },
      "id": "Gy2G0Z3vROwR",
      "execution_count": 5,
      "outputs": [
        {
          "output_type": "stream",
          "name": "stdout",
          "text": [
            "['Cars', 'Forrest Gump', 'Goodwill Hunting', 'Star Wars: Revenge of the Sith', 'Top Gun']\n"
          ]
        }
      ]
    },
    {
      "cell_type": "code",
      "source": [],
      "metadata": {
        "id": "bWqcDs8GS9F9"
      },
      "id": "bWqcDs8GS9F9",
      "execution_count": null,
      "outputs": []
    }
  ],
  "metadata": {
    "colab": {
      "provenance": []
    },
    "language_info": {
      "name": "python"
    },
    "kernelspec": {
      "name": "python3",
      "display_name": "Python 3"
    }
  },
  "nbformat": 4,
  "nbformat_minor": 5
}