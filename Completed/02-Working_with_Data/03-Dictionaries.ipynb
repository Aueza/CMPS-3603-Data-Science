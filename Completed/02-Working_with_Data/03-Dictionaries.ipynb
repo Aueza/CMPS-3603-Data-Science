{
  "cells": [
    {
      "cell_type": "markdown",
      "id": "ba110f51",
      "metadata": {
        "id": "ba110f51"
      },
      "source": [
        "# 📘 03 - Python Dictionaries\n",
        "\n",
        "Dictionaries store key-value pairs for fast lookups."
      ]
    },
    {
      "cell_type": "markdown",
      "id": "32ad5c23",
      "metadata": {
        "id": "32ad5c23"
      },
      "source": [
        "## ✅ Learning Goals\n",
        "- Create and access dictionary items\n",
        "- Use dictionary methods like `.get()` and `.items()`"
      ]
    },
    {
      "cell_type": "code",
      "execution_count": 3,
      "id": "d69a5483",
      "metadata": {
        "id": "d69a5483",
        "outputId": "7f526777-7961-4afc-cad6-b463681cdacf",
        "colab": {
          "base_uri": "https://localhost:8080/"
        }
      },
      "outputs": [
        {
          "output_type": "stream",
          "name": "stdout",
          "text": [
            "{'name': 'Ethan', 'age': 21, 'major': 'CS'}\n"
          ]
        }
      ],
      "source": [
        "# 📚 Create a Dictionary\n",
        "student = {'name': 'Ethan', 'age': 21, 'major': 'CS'}\n",
        "print(student)"
      ]
    },
    {
      "cell_type": "code",
      "execution_count": 4,
      "id": "c014213d",
      "metadata": {
        "id": "c014213d",
        "outputId": "d3a9abfb-a5ae-4c7c-957d-97306d796bf2",
        "colab": {
          "base_uri": "https://localhost:8080/"
        }
      },
      "outputs": [
        {
          "output_type": "stream",
          "name": "stdout",
          "text": [
            "Ethan\n",
            "N/A\n"
          ]
        }
      ],
      "source": [
        "# 🔍 Access Values\n",
        "print(student['name'])\n",
        "print(student.get('gpa', 'N/A'))"
      ]
    },
    {
      "cell_type": "code",
      "execution_count": 5,
      "id": "f80fb0b2",
      "metadata": {
        "id": "f80fb0b2",
        "outputId": "1eb60961-25e0-4afe-ffba-4723e8653e29",
        "colab": {
          "base_uri": "https://localhost:8080/"
        }
      },
      "outputs": [
        {
          "output_type": "stream",
          "name": "stdout",
          "text": [
            "name -> Ethan\n",
            "age -> 21\n",
            "major -> CS\n"
          ]
        }
      ],
      "source": [
        "# 🔁 Loop Over Dictionary\n",
        "for key, value in student.items():\n",
        "    print(key, '->', value)"
      ]
    },
    {
      "cell_type": "markdown",
      "id": "aa0e1c66",
      "metadata": {
        "id": "aa0e1c66"
      },
      "source": [
        "## ✏️ Your Turn\n",
        "Create a dictionary to store information about your favorite book."
      ]
    },
    {
      "cell_type": "code",
      "source": [
        "book = {\"Title\": \"Percy Jackson\", \"Author\": \"Rick Riordan\", \"Release Date\": \"2005\"}\n",
        "print(book)"
      ],
      "metadata": {
        "id": "HTrRsjVUVM45",
        "outputId": "9815fbb2-c802-474a-a0f8-69e1b43901d9",
        "colab": {
          "base_uri": "https://localhost:8080/"
        }
      },
      "id": "HTrRsjVUVM45",
      "execution_count": 6,
      "outputs": [
        {
          "output_type": "stream",
          "name": "stdout",
          "text": [
            "{'Title': 'Percy Jackson', 'Author': 'Rick Riordan', 'Release Date': '2005'}\n"
          ]
        }
      ]
    },
    {
      "cell_type": "code",
      "source": [],
      "metadata": {
        "id": "bJseDVeHVlys"
      },
      "id": "bJseDVeHVlys",
      "execution_count": null,
      "outputs": []
    }
  ],
  "metadata": {
    "colab": {
      "provenance": []
    },
    "language_info": {
      "name": "python"
    },
    "kernelspec": {
      "name": "python3",
      "display_name": "Python 3"
    }
  },
  "nbformat": 4,
  "nbformat_minor": 5
}