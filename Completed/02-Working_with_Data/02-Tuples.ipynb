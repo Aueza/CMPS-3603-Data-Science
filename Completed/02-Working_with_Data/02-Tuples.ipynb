{
  "cells": [
    {
      "cell_type": "markdown",
      "id": "4fc4e076",
      "metadata": {
        "id": "4fc4e076"
      },
      "source": [
        "# 📘 02 - Python Tuples\n",
        "\n",
        "Learn what tuples are and how to use them."
      ]
    },
    {
      "cell_type": "markdown",
      "id": "0ec947dd",
      "metadata": {
        "id": "0ec947dd"
      },
      "source": [
        "## ✅ Learning Goals\n",
        "- Create and access tuples\n",
        "- Understand immutability\n",
        "- Use tuple unpacking"
      ]
    },
    {
      "cell_type": "code",
      "execution_count": 1,
      "id": "467cf803",
      "metadata": {
        "id": "467cf803",
        "outputId": "1f8766d8-6a76-42e5-c454-2a12fadb0471",
        "colab": {
          "base_uri": "https://localhost:8080/"
        }
      },
      "outputs": [
        {
          "output_type": "stream",
          "name": "stdout",
          "text": [
            "(5, 10)\n"
          ]
        }
      ],
      "source": [
        "# 🔧 Create a Tuple\n",
        "coords = (5, 10)\n",
        "print(coords)"
      ]
    },
    {
      "cell_type": "code",
      "execution_count": 2,
      "id": "13b643c4",
      "metadata": {
        "id": "13b643c4",
        "outputId": "2f4c01c7-525a-4e4a-8cda-79b86b96b94f",
        "colab": {
          "base_uri": "https://localhost:8080/"
        }
      },
      "outputs": [
        {
          "output_type": "stream",
          "name": "stdout",
          "text": [
            "X: 5\n",
            "Y: 10\n"
          ]
        }
      ],
      "source": [
        "# 🔍 Indexing\n",
        "print('X:', coords[0])\n",
        "print('Y:', coords[1])"
      ]
    },
    {
      "cell_type": "code",
      "execution_count": 3,
      "id": "2c780aea",
      "metadata": {
        "id": "2c780aea",
        "outputId": "07d1caab-321c-4cdf-9104-7d35b8ad72bc",
        "colab": {
          "base_uri": "https://localhost:8080/"
        }
      },
      "outputs": [
        {
          "output_type": "stream",
          "name": "stdout",
          "text": [
            "x + y = 15\n"
          ]
        }
      ],
      "source": [
        "# 🔁 Tuple Unpacking\n",
        "x, y = coords\n",
        "print('x + y =', x + y)"
      ]
    },
    {
      "cell_type": "markdown",
      "id": "3a71407c",
      "metadata": {
        "id": "3a71407c"
      },
      "source": [
        "## 🚫 Tuples are immutable\n",
        "Try uncommenting the line below to see what happens:\n",
        "```python\n",
        "coords[0] = 100\n",
        "```"
      ]
    },
    {
      "cell_type": "code",
      "source": [
        "coords[0] = 100"
      ],
      "metadata": {
        "id": "zYBX0sd3Tdti",
        "outputId": "ffdef0b5-05e0-4b03-ac0f-d89cef321fcb",
        "colab": {
          "base_uri": "https://localhost:8080/",
          "height": 141
        }
      },
      "id": "zYBX0sd3Tdti",
      "execution_count": 4,
      "outputs": [
        {
          "output_type": "error",
          "ename": "TypeError",
          "evalue": "'tuple' object does not support item assignment",
          "traceback": [
            "\u001b[0;31m---------------------------------------------------------------------------\u001b[0m",
            "\u001b[0;31mTypeError\u001b[0m                                 Traceback (most recent call last)",
            "\u001b[0;32m/tmp/ipython-input-4109396004.py\u001b[0m in \u001b[0;36m<cell line: 0>\u001b[0;34m()\u001b[0m\n\u001b[0;32m----> 1\u001b[0;31m \u001b[0mcoords\u001b[0m\u001b[0;34m[\u001b[0m\u001b[0;36m0\u001b[0m\u001b[0;34m]\u001b[0m \u001b[0;34m=\u001b[0m \u001b[0;36m100\u001b[0m\u001b[0;34m\u001b[0m\u001b[0;34m\u001b[0m\u001b[0m\n\u001b[0m",
            "\u001b[0;31mTypeError\u001b[0m: 'tuple' object does not support item assignment"
          ]
        }
      ]
    },
    {
      "cell_type": "markdown",
      "id": "853762bc",
      "metadata": {
        "id": "853762bc"
      },
      "source": [
        "## ✏️ Your Turn\n",
        "Create a tuple to store your birthday as `(month, day, year)`."
      ]
    },
    {
      "cell_type": "code",
      "source": [
        "birthday = (9, 27, 2003)"
      ],
      "metadata": {
        "id": "C8zqTta-TcKu"
      },
      "id": "C8zqTta-TcKu",
      "execution_count": 5,
      "outputs": []
    },
    {
      "cell_type": "code",
      "source": [
        "print(birthday)"
      ],
      "metadata": {
        "id": "cmdgcVvrTmrz",
        "outputId": "85f897a1-769f-44b1-915d-5af53b582158",
        "colab": {
          "base_uri": "https://localhost:8080/"
        }
      },
      "id": "cmdgcVvrTmrz",
      "execution_count": 6,
      "outputs": [
        {
          "output_type": "stream",
          "name": "stdout",
          "text": [
            "(9, 27, 2003)\n"
          ]
        }
      ]
    },
    {
      "cell_type": "code",
      "source": [
        "print(f\"Month: {birthday[0]}\")\n",
        "print(f\"Day: {birthday[1]}\")\n",
        "print(f\"Year: {birthday[2]}\")"
      ],
      "metadata": {
        "id": "_QAPmZM0TnzY",
        "outputId": "b8eeb726-a456-4956-82f4-4a8e88573d35",
        "colab": {
          "base_uri": "https://localhost:8080/"
        }
      },
      "id": "_QAPmZM0TnzY",
      "execution_count": 7,
      "outputs": [
        {
          "output_type": "stream",
          "name": "stdout",
          "text": [
            "Month: 9\n",
            "Day: 27\n",
            "Year: 2003\n"
          ]
        }
      ]
    },
    {
      "cell_type": "code",
      "source": [],
      "metadata": {
        "id": "feW0l_wOT2eD"
      },
      "id": "feW0l_wOT2eD",
      "execution_count": null,
      "outputs": []
    }
  ],
  "metadata": {
    "colab": {
      "provenance": []
    },
    "language_info": {
      "name": "python"
    },
    "kernelspec": {
      "name": "python3",
      "display_name": "Python 3"
    }
  },
  "nbformat": 4,
  "nbformat_minor": 5
}